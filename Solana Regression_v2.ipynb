{
 "cells": [
  {
   "cell_type": "code",
   "execution_count": 2,
   "id": "99a9d7a0",
   "metadata": {
    "id": "99a9d7a0"
   },
   "outputs": [],
   "source": [
    "import datetime\n",
    "import numpy as np\n",
    "import pandas as pd\n",
    "import matplotlib.pyplot as plt\n",
    "import seaborn as sns\n",
    "import pandas_datareader.data as web\n",
    "import yfinance as yf"
   ]
  },
  {
   "cell_type": "markdown",
   "id": "b361e1ca",
   "metadata": {},
   "source": [
    "### Regressions: what factors cause variations in prices of SOL"
   ]
  },
  {
   "cell_type": "code",
   "execution_count": 397,
   "id": "ba637141",
   "metadata": {
    "id": "ba637141",
    "outputId": "ea6cd31f-079b-4466-c316-412f26b4cf1b"
   },
   "outputs": [
    {
     "name": "stdout",
     "output_type": "stream",
     "text": [
      "[*********************100%***********************]  1 of 1 completed\n"
     ]
    }
   ],
   "source": [
    
    "sol_pr = yf.download('SOL-USD',period='36mo',ignore_tz=True)\n",
    "sol_pr['Date']=sol_pr.index\n",
    "sol_pr['Date'] = pd.to_datetime(sol_pr['Date']).dt.date\n",
    "sol_pr.set_index('Date', inplace=True)\n",
    "sol_pr['Sol_Price']=sol_pr['Adj Close'].pct_change()\n",
    "sol_pr=sol_pr[['Sol_Price']]"
   ]
  },
  {
   "cell_type": "code",
   "execution_count": 59,
   "id": "1j_gUCBD67DE",
   "metadata": {
    "id": "1j_gUCBD67DE"
   },
   "outputs": [],
   "source": [
    "# Matching with Var that Bailee used by adding ('ACWI' 'Gold''Oil''DBC' 'TPINX') \n",
    "#Changing GOLD to GLD\n",
    "\n",
    "\n",
    "#Equity: ACWI MSCI*\n",
    "#Bonds Alternative: Templeton Global Bond Fund (TPINX) \n",
    "#Commodities:DBC, S&P-GSCI Commodity Index Future (GD=F)\n",
    "#Market Volatility: VIX\n",
    "#Credit:. Fidelity Global Credit Fund (FGBFX)\n",
    "#Emg Mkts:\n",
    "#- EM Equity: MSCI Emerging Markets Net Return Index,  ACWI\n",
    "#- EM Net Total Return: The MSCI Emerging Markets (EM) Net Total Return Index\n",
    "#USD Inflation: GOLD OIL CPI*"
   ]
  },
  {
   "cell_type": "code",
   "execution_count": 60,
   "id": "88ee555e",
   "metadata": {},
   "outputs": [],
   "source": [
    "# Taking Richard's suggestionsa and added \n",
    "#ICE BofA High Yield US Emerging Markets Liquid Corporate Plus Index Option-Adjusted Spread)\n",
    "#Moody's Seasoned Baa Corporate Bond Yield Relative to Yield on 10-Year Treasury Constant Maturity"
   ]
  },
  {
   "cell_type": "code",
   "execution_count": 433,
   "id": "4ff860c5",
   "metadata": {},
   "outputs": [
    {
     "name": "stdout",
     "output_type": "stream",
     "text": [
      "[*********************100%***********************]  1 of 1 completed\n"
     ]
    }
   ],
   "source": [
    "#VIX\n",
    "\n",
    "VIX= yf.download('^VIX',period='36mo',ignore_tz=True)\n",
    "VIX['Date']=VIX.index\n",
    "VIX['Date'] = pd.to_datetime(VIX['Date']).dt.date\n",
    "VIX.set_index('Date', inplace=True)\n",
    "VIX['VIX']=VIX['Adj Close'].pct_change()\n",
    "VIX=VIX[['VIX']]"
   ]
  },
  {
   "cell_type": "code",
   "execution_count": 286,
   "id": "fa3cd2c1",
   "metadata": {},
   "outputs": [
    {
     "name": "stdout",
     "output_type": "stream",
     "text": [
      "[*********************100%***********************]  1 of 1 completed\n"
     ]
    }
   ],
   "source": [
    "#Bonds Alternative: Templeton Global Bond Fund (TPINX)\n",
    "\n",
    "TPINX= yf.download('TPINX',period='36mo',ignore_tz=True)\n",
    "TPINX['Date']=TPINX.index\n",
    "TPINX['Date'] = pd.to_datetime(TPINX['Date']).dt.date\n",
    "TPINX.set_index('Date', inplace=True)\n",
    "TPINX['TPINX']=TPINX['Adj Close'].pct_change()\n",
    "TPINX=TPINX[['TPINX']]"
   ]
  },
  {
   "cell_type": "code",
   "execution_count": 287,
   "id": "978ac4fc",
   "metadata": {},
   "outputs": [
    {
     "name": "stdout",
     "output_type": "stream",
     "text": [
      "[*********************100%***********************]  1 of 1 completed\n"
     ]
    }
   ],
   "source": [
    "#Credit:. Fidelity Global Credit Fund (FGBFX)\n",
    "\n",
    "FGBFX= yf.download('FGBFX',period='36mo',ignore_tz=True)\n",
    "FGBFX['Date']=FGBFX.index\n",
    "FGBFX['Date'] = pd.to_datetime(FGBFX['Date']).dt.date\n",
    "FGBFX.set_index('Date', inplace=True)\n",
    "FGBFX['FGBFX']=FGBFX['Adj Close'].pct_change()\n",
    "FGBFX=FGBFX[['FGBFX']]"
   ]
  },
  {
   "cell_type": "code",
   "execution_count": 288,
   "id": "f913a274",
   "metadata": {},
   "outputs": [
    {
     "name": "stdout",
     "output_type": "stream",
     "text": [
      "[*********************100%***********************]  1 of 1 completed\n"
     ]
    }
   ],
   "source": [
    "#Commodities: DBC\n",
    "\n",
    "DBC= yf.download('DBC',period='36mo',ignore_tz=True)\n",
    "DBC['Date']=DBC.index\n",
    "DBC['Date'] = pd.to_datetime(DBC['Date']).dt.date\n",
    "DBC.set_index('Date', inplace=True)\n",
    "DBC['DBC']=DBC['Adj Close'].pct_change()\n",
    "DBC=DBC[['DBC']]"
   ]
  },
  {
   "cell_type": "code",
   "execution_count": 289,
   "id": "f9495865",
   "metadata": {
    "id": "f9495865",
    "outputId": "d2d273a8-5c99-4bd1-cef5-6d7e59e9bbec"
   },
   "outputs": [
    {
     "name": "stdout",
     "output_type": "stream",
     "text": [
      "[*********************100%***********************]  1 of 1 completed\n"
     ]
    }
   ],
   "source": [
    "#Commodities: S&P-GSCI Commodity Index Future (GD=F) \n",
    "\n",
    "GSCI = yf.download('GD=F',period='36mo',ignore_tz=True)\n",
    "GSCI['Date']=GSCI.index\n",
    "GSCI['Date'] = pd.to_datetime(GSCI['Date']).dt.date\n",
    "GSCI.set_index('Date', inplace=True)\n",
    "GSCI['GSCI']=GSCI['Adj Close'].pct_change()\n",
    "GSCI=GSCI[['GSCI']]"
   ]
  },
  {
   "cell_type": "code",
   "execution_count": 290,
   "id": "83a8a049",
   "metadata": {},
   "outputs": [
    {
     "name": "stdout",
     "output_type": "stream",
     "text": [
      "[*********************100%***********************]  1 of 1 completed\n"
     ]
    }
   ],
   "source": [
    "#EM Equity ACWI (iShares MSCI ACWI ETF)\n",
    "\n",
    "ACWI= yf.download('ACWI',period='36mo',ignore_tz=True)\n",
    "ACWI['Date']=ACWI.index\n",
    "ACWI['Date'] = pd.to_datetime(ACWI['Date']).dt.date\n",
    "ACWI.set_index('Date', inplace=True)\n",
    "ACWI['ACWI']=ACWI['Adj Close'].pct_change()\n",
    "ACWI=ACWI[['ACWI']]"
   ]
  },
  {
   "cell_type": "code",
   "execution_count": 291,
   "id": "ee6ad40e",
   "metadata": {
    "id": "ee6ad40e",
    "outputId": "4d5e9e69-e6aa-4691-82a7-f782c0b7a613"
   },
   "outputs": [
    {
     "name": "stdout",
     "output_type": "stream",
     "text": [
      "[*********************100%***********************]  1 of 1 completed\n"
     ]
    }
   ],
   "source": [
    "#The MSCI Emerging Markets (EM) Net Total Return Index Futures\n",
    "\n",
    "em_ntr = yf.download('MMN=F',period='36mo',ignore_tz=True)\n",
    "em_ntr['Date']=em_ntr.index\n",
    "em_ntr['Date'] = pd.to_datetime(em_ntr['Date']).dt.date\n",
    "em_ntr.set_index('Date', inplace=True)\n",
    "em_ntr['em_ntr']=em_ntr['Adj Close'].pct_change()\n",
    "em_ntr=em_ntr[['em_ntr']]\n"
   ]
  },
  {
   "cell_type": "code",
   "execution_count": 68,
   "id": "e9c6aaba",
   "metadata": {},
   "outputs": [],
   "source": [
    "#MCSI\n",
    "\n",
    "#MCSI= yf.download('MCSI',period='36mo',ignore_tz=True)\n",
    "#MCSI['Date']=MCSI.index\n",
    "#MCSI['Date'] = pd.to_datetime(MCSI['Date']).dt.date\n",
    "#MCSI.set_index('Date', inplace=True)\n",
    "#MCSI['MCSI']=(MCSI['Open']+MCSI['Close']+MCSI['High']+MCSI['Low'])/4\n",
    "#MCSI=MCSI[['MCSI']]"
   ]
  },
  {
   "cell_type": "code",
   "execution_count": 292,
   "id": "215ba086",
   "metadata": {},
   "outputs": [],
   "source": [
    "#EM currency Index \n",
    "\n",
    "em_currency=pd.read_csv('MSCI Intl Emerging Market Currency Historical Data.csv')\n",
    "em_currency['Date'] = pd.to_datetime(em_currency['Date'])\n",
    "em_currency.set_index('Date', inplace=True)\n",
    "\n",
    "em_currency=em_currency[['Price']]\n",
    "em_currency.rename(columns={'Price':'em_currency'},inplace=True)\n",
    "em_currency=em_currency.sort_index()\n",
    "em_currency['em_currency'] = em_currency['em_currency'].str.replace(',', '').astype(float)\n",
    "em_currency['em_currency']=em_currency['em_currency'].pct_change()\n",
    "\n",
    "em_currency=em_currency[['em_currency']]"
   ]
  },
  {
   "cell_type": "code",
   "execution_count": 293,
   "id": "4af2603b",
   "metadata": {},
   "outputs": [
    {
     "name": "stdout",
     "output_type": "stream",
     "text": [
      "[*********************100%***********************]  1 of 1 completed\n"
     ]
    }
   ],
   "source": [
    "#Gold (as a measure of inflation)\n",
    "\n",
    "Gold= yf.download('GLD',period='36mo',ignore_tz=True)\n",
    "Gold['Date']=Gold.index\n",
    "Gold['Date'] = pd.to_datetime(Gold['Date']).dt.date\n",
    "Gold.set_index('Date', inplace=True)\n",
    "Gold['Gold']=Gold['Adj Close'].pct_change()\n",
    "Gold=Gold[['Gold']]"
   ]
  },
  {
   "cell_type": "code",
   "execution_count": 294,
   "id": "9e6a5111",
   "metadata": {},
   "outputs": [
    {
     "name": "stdout",
     "output_type": "stream",
     "text": [
      "[*********************100%***********************]  1 of 1 completed\n"
     ]
    }
   ],
   "source": [
    "#Oil (as a measure of inflation)\n",
    "\n",
    "Oil= yf.download('CL=F',period='36mo',ignore_tz=True)\n",
    "Oil['Date']=Oil.index\n",
    "Oil['Date'] = pd.to_datetime(Oil['Date']).dt.date\n",
    "Oil.set_index('Date', inplace=True)\n",
    "Oil['Oil']=Oil['Adj Close'].pct_change()\n",
    "Oil=Oil[['Oil']]"
   ]
  },
  {
   "cell_type": "code",
   "execution_count": null,
   "id": "1c412c36",
   "metadata": {},
   "outputs": [],
   "source": [
    "USD= yf.download('DX-Y.NYB',period='36mo',ignore_tz=True)\n",
    "USD['Date']=USD.index\n",
    "USD['Date'] = pd.to_datetime(USD['Date']).dt.date\n",
    "USD.set_index('Date', inplace=True)\n",
    "USD['USD']=USD['Adj Close'].pct_change()\n",
    "USD=USD[['USD']]"
   ]
  },
  {
   "cell_type": "code",
   "execution_count": 326,
   "id": "34527ad3",
   "metadata": {
    "id": "34527ad3",
    "scrolled": true
   },
   "outputs": [],
   "source": [
    "#Inflation: CPI distributed across each day \n",
    "\n",
    "#cpi=pd.read_csv('CPI.csv')\n",
    "#cpi['Label'] = pd.to_datetime(cpi['Label'])\n",
    "#cpi.rename(columns = {'Label':'Date'}, inplace = True)\n",
    "#cpi.rename(columns = {'Value':'CPI'}, inplace = True)\n",
    "#cpi.set_index('Date', inplace=True)\n",
    "#cpi=cpi[['CPI']]\n",
    "\n",
    "#start_date = cpi.index.min() - pd.DateOffset(day=1)\n",
    "#end_date = cpi.index.max() + pd.DateOffset(day=31)\n",
    "#dates=pd.date_range(start_date, end_date, freq='D')\n",
    "#dates.name= 'Date'\n",
    "#cpi= cpi.reindex(dates, method='ffill')\n",
    "#cpi=cpi[['CPI']]"
   ]
  },
  {
   "cell_type": "code",
   "execution_count": 327,
   "id": "1fb5f384",
   "metadata": {},
   "outputs": [
    {
     "data": {
      "text/html": [
       "<div>\n",
       "<style scoped>\n",
       "    .dataframe tbody tr th:only-of-type {\n",
       "        vertical-align: middle;\n",
       "    }\n",
       "\n",
       "    .dataframe tbody tr th {\n",
       "        vertical-align: top;\n",
       "    }\n",
       "\n",
       "    .dataframe thead th {\n",
       "        text-align: right;\n",
       "    }\n",
       "</style>\n",
       "<table border=\"1\" class=\"dataframe\">\n",
       "  <thead>\n",
       "    <tr style=\"text-align: right;\">\n",
       "      <th></th>\n",
       "      <th>CPI</th>\n",
       "    </tr>\n",
       "    <tr>\n",
       "      <th>Date</th>\n",
       "      <th></th>\n",
       "    </tr>\n",
       "  </thead>\n",
       "  <tbody>\n",
       "    <tr>\n",
       "      <th>2020-01-01</th>\n",
       "      <td>257.971</td>\n",
       "    </tr>\n",
       "    <tr>\n",
       "      <th>2020-01-02</th>\n",
       "      <td>257.971</td>\n",
       "    </tr>\n",
       "    <tr>\n",
       "      <th>2020-01-03</th>\n",
       "      <td>257.971</td>\n",
       "    </tr>\n",
       "    <tr>\n",
       "      <th>2020-01-04</th>\n",
       "      <td>257.971</td>\n",
       "    </tr>\n",
       "    <tr>\n",
       "      <th>2020-01-05</th>\n",
       "      <td>257.971</td>\n",
       "    </tr>\n",
       "    <tr>\n",
       "      <th>...</th>\n",
       "      <td>...</td>\n",
       "    </tr>\n",
       "    <tr>\n",
       "      <th>2023-01-27</th>\n",
       "      <td>299.170</td>\n",
       "    </tr>\n",
       "    <tr>\n",
       "      <th>2023-01-28</th>\n",
       "      <td>299.170</td>\n",
       "    </tr>\n",
       "    <tr>\n",
       "      <th>2023-01-29</th>\n",
       "      <td>299.170</td>\n",
       "    </tr>\n",
       "    <tr>\n",
       "      <th>2023-01-30</th>\n",
       "      <td>299.170</td>\n",
       "    </tr>\n",
       "    <tr>\n",
       "      <th>2023-01-31</th>\n",
       "      <td>299.170</td>\n",
       "    </tr>\n",
       "  </tbody>\n",
       "</table>\n",
       "<p>1127 rows × 1 columns</p>\n",
       "</div>"
      ],
      "text/plain": [
       "                CPI\n",
       "Date               \n",
       "2020-01-01  257.971\n",
       "2020-01-02  257.971\n",
       "2020-01-03  257.971\n",
       "2020-01-04  257.971\n",
       "2020-01-05  257.971\n",
       "...             ...\n",
       "2023-01-27  299.170\n",
       "2023-01-28  299.170\n",
       "2023-01-29  299.170\n",
       "2023-01-30  299.170\n",
       "2023-01-31  299.170\n",
       "\n",
       "[1127 rows x 1 columns]"
      ]
     },
     "execution_count": 327,
     "metadata": {},
     "output_type": "execute_result"
    }
   ],
   "source": [
    "#cpi"
   ]
  },
  {
   "cell_type": "code",
   "execution_count": 311,
   "id": "8523f376",
   "metadata": {},
   "outputs": [],
   "source": [
    "#Liquidity Index\n",
    "#ICE BofA High Yield US Emerging Markets Liquid Corporate Plus Index Option-Adjusted Spread\n",
    "\n",
    "Liquidity_Index=pd.read_csv('BAMLEMHYHYLCRPIUSOAS.csv',index_col=\"DATE\")\n",
    "Liquidity_Index.index = pd.to_datetime(Liquidity_Index.index)\n",
    "Liquidity_Index.index.names = ['Date']\n",
    "Liquidity_Index=Liquidity_Index[Liquidity_Index['BAMLEMHYHYLCRPIUSOAS'] != '.']\n",
    "\n",
    "Liquidity_Index['BAMLEMHYHYLCRPIUSOAS']=Liquidity_Index['BAMLEMHYHYLCRPIUSOAS'].astype(float).pct_change()"
   ]
  },
  {
   "cell_type": "code",
   "execution_count": 312,
   "id": "e9a53311",
   "metadata": {},
   "outputs": [],
   "source": [
    "#Credit Spread\n",
    "Credit_Spread=pd.read_csv('BAA10Y.csv',index_col=\"DATE\")\n",
    "Credit_Spread.index = pd.to_datetime(Credit_Spread.index)\n",
    "Credit_Spread.index.names = ['Date']\n",
    "\n",
    "Credit_Spread=Credit_Spread[Credit_Spread['BAA10Y'] != '.']\n",
    "\n",
    "Credit_Spread['BAA10Y'] = Credit_Spread['BAA10Y'].astype(float).pct_change()"
   ]
  },
  {
   "cell_type": "code",
   "execution_count": 313,
   "id": "fb0d74cd",
   "metadata": {},
   "outputs": [
    {
     "data": {
      "text/html": [
       "<div>\n",
       "<style scoped>\n",
       "    .dataframe tbody tr th:only-of-type {\n",
       "        vertical-align: middle;\n",
       "    }\n",
       "\n",
       "    .dataframe tbody tr th {\n",
       "        vertical-align: top;\n",
       "    }\n",
       "\n",
       "    .dataframe thead th {\n",
       "        text-align: right;\n",
       "    }\n",
       "</style>\n",
       "<table border=\"1\" class=\"dataframe\">\n",
       "  <thead>\n",
       "    <tr style=\"text-align: right;\">\n",
       "      <th></th>\n",
       "      <th>BAA10Y</th>\n",
       "    </tr>\n",
       "    <tr>\n",
       "      <th>Date</th>\n",
       "      <th></th>\n",
       "    </tr>\n",
       "  </thead>\n",
       "  <tbody>\n",
       "    <tr>\n",
       "      <th>2018-03-21</th>\n",
       "      <td>NaN</td>\n",
       "    </tr>\n",
       "    <tr>\n",
       "      <th>2018-03-22</th>\n",
       "      <td>0.010989</td>\n",
       "    </tr>\n",
       "    <tr>\n",
       "      <th>2018-03-23</th>\n",
       "      <td>0.016304</td>\n",
       "    </tr>\n",
       "    <tr>\n",
       "      <th>2018-03-26</th>\n",
       "      <td>-0.016043</td>\n",
       "    </tr>\n",
       "    <tr>\n",
       "      <th>2018-03-27</th>\n",
       "      <td>0.010870</td>\n",
       "    </tr>\n",
       "    <tr>\n",
       "      <th>...</th>\n",
       "      <td>...</td>\n",
       "    </tr>\n",
       "    <tr>\n",
       "      <th>2023-03-15</th>\n",
       "      <td>0.052133</td>\n",
       "    </tr>\n",
       "    <tr>\n",
       "      <th>2023-03-16</th>\n",
       "      <td>-0.027027</td>\n",
       "    </tr>\n",
       "    <tr>\n",
       "      <th>2023-03-17</th>\n",
       "      <td>0.023148</td>\n",
       "    </tr>\n",
       "    <tr>\n",
       "      <th>2023-03-20</th>\n",
       "      <td>-0.009050</td>\n",
       "    </tr>\n",
       "    <tr>\n",
       "      <th>2023-03-21</th>\n",
       "      <td>-0.036530</td>\n",
       "    </tr>\n",
       "  </tbody>\n",
       "</table>\n",
       "<p>1248 rows × 1 columns</p>\n",
       "</div>"
      ],
      "text/plain": [
       "              BAA10Y\n",
       "Date                \n",
       "2018-03-21       NaN\n",
       "2018-03-22  0.010989\n",
       "2018-03-23  0.016304\n",
       "2018-03-26 -0.016043\n",
       "2018-03-27  0.010870\n",
       "...              ...\n",
       "2023-03-15  0.052133\n",
       "2023-03-16 -0.027027\n",
       "2023-03-17  0.023148\n",
       "2023-03-20 -0.009050\n",
       "2023-03-21 -0.036530\n",
       "\n",
       "[1248 rows x 1 columns]"
      ]
     },
     "execution_count": 313,
     "metadata": {},
     "output_type": "execute_result"
    }
   ],
   "source": [
    "Credit_Spread"
   ]
  },
  {
   "cell_type": "code",
   "execution_count": 400,
   "id": "c18a195e",
   "metadata": {
    "id": "c18a195e",
    "outputId": "c6ec5fef-c5f7-4f02-abde-a6eb0077dc57"
   },
   "outputs": [
    {
     "name": "stderr",
     "output_type": "stream",
     "text": [
      "C:\\Users\\Yu Rui\\AppData\\Local\\Programs\\Python\\Python310\\lib\\site-packages\\pandas\\core\\indexes\\base.py:347: FutureWarning: Comparison of Timestamp with datetime.date is deprecated in order to match the standard library behavior. In a future version these will be considered non-comparable. Use 'ts == pd.Timestamp(date)' or 'ts.date() == date' instead.\n",
      "  joined_ndarray, lidx, ridx = libjoin.inner_join_indexer(sv, ov)\n"
     ]
    },
    {
     "data": {
      "text/html": [
       "<div>\n",
       "<style scoped>\n",
       "    .dataframe tbody tr th:only-of-type {\n",
       "        vertical-align: middle;\n",
       "    }\n",
       "\n",
       "    .dataframe tbody tr th {\n",
       "        vertical-align: top;\n",
       "    }\n",
       "\n",
       "    .dataframe thead th {\n",
       "        text-align: right;\n",
       "    }\n",
       "</style>\n",
       "<table border=\"1\" class=\"dataframe\">\n",
       "  <thead>\n",
       "    <tr style=\"text-align: right;\">\n",
       "      <th></th>\n",
       "      <th>Sol_Price</th>\n",
       "      <th>VIX</th>\n",
       "      <th>TPINX</th>\n",
       "      <th>FGBFX</th>\n",
       "      <th>DBC</th>\n",
       "      <th>ACWI</th>\n",
       "      <th>em_ntr</th>\n",
       "      <th>em_currency</th>\n",
       "      <th>Gold</th>\n",
       "      <th>Oil</th>\n",
       "      <th>USD</th>\n",
       "      <th>BAMLEMHYHYLCRPIUSOAS</th>\n",
       "      <th>BAA10Y</th>\n",
       "    </tr>\n",
       "    <tr>\n",
       "      <th>Date</th>\n",
       "      <th></th>\n",
       "      <th></th>\n",
       "      <th></th>\n",
       "      <th></th>\n",
       "      <th></th>\n",
       "      <th></th>\n",
       "      <th></th>\n",
       "      <th></th>\n",
       "      <th></th>\n",
       "      <th></th>\n",
       "      <th></th>\n",
       "      <th></th>\n",
       "      <th></th>\n",
       "    </tr>\n",
       "  </thead>\n",
       "  <tbody>\n",
       "    <tr>\n",
       "      <th>2020-04-13</th>\n",
       "      <td>-0.118611</td>\n",
       "      <td>-0.011999</td>\n",
       "      <td>0.000998</td>\n",
       "      <td>0.003257</td>\n",
       "      <td>0.017301</td>\n",
       "      <td>-0.008000</td>\n",
       "      <td>0.003121</td>\n",
       "      <td>-0.001461</td>\n",
       "      <td>0.017140</td>\n",
       "      <td>-0.015378</td>\n",
       "      <td>-0.001708</td>\n",
       "      <td>-0.010073</td>\n",
       "      <td>-0.055402</td>\n",
       "    </tr>\n",
       "    <tr>\n",
       "      <th>2020-04-14</th>\n",
       "      <td>-0.149013</td>\n",
       "      <td>-0.082827</td>\n",
       "      <td>-0.000997</td>\n",
       "      <td>0.009740</td>\n",
       "      <td>-0.008503</td>\n",
       "      <td>0.025715</td>\n",
       "      <td>0.022738</td>\n",
       "      <td>0.000210</td>\n",
       "      <td>0.007868</td>\n",
       "      <td>-0.102633</td>\n",
       "      <td>-0.004630</td>\n",
       "      <td>-0.041628</td>\n",
       "      <td>-0.014663</td>\n",
       "    </tr>\n",
       "    <tr>\n",
       "      <th>2020-04-15</th>\n",
       "      <td>-0.023075</td>\n",
       "      <td>0.081568</td>\n",
       "      <td>0.003903</td>\n",
       "      <td>0.005359</td>\n",
       "      <td>-0.020583</td>\n",
       "      <td>-0.024922</td>\n",
       "      <td>-0.025275</td>\n",
       "      <td>-0.003198</td>\n",
       "      <td>-0.005102</td>\n",
       "      <td>-0.011934</td>\n",
       "      <td>0.005764</td>\n",
       "      <td>-0.003861</td>\n",
       "      <td>-0.008929</td>\n",
       "    </tr>\n",
       "    <tr>\n",
       "      <th>2020-04-16</th>\n",
       "      <td>0.068298</td>\n",
       "      <td>-0.017875</td>\n",
       "      <td>0.002991</td>\n",
       "      <td>0.000000</td>\n",
       "      <td>-0.002627</td>\n",
       "      <td>0.004260</td>\n",
       "      <td>0.005762</td>\n",
       "      <td>-0.002443</td>\n",
       "      <td>-0.000865</td>\n",
       "      <td>0.000000</td>\n",
       "      <td>0.005731</td>\n",
       "      <td>-0.005814</td>\n",
       "      <td>-0.015015</td>\n",
       "    </tr>\n",
       "    <tr>\n",
       "      <th>2020-04-17</th>\n",
       "      <td>-0.043554</td>\n",
       "      <td>-0.048866</td>\n",
       "      <td>0.001988</td>\n",
       "      <td>-0.001066</td>\n",
       "      <td>0.004390</td>\n",
       "      <td>0.027268</td>\n",
       "      <td>0.021007</td>\n",
       "      <td>0.001496</td>\n",
       "      <td>-0.019417</td>\n",
       "      <td>-0.080523</td>\n",
       "      <td>-0.002499</td>\n",
       "      <td>-0.017544</td>\n",
       "      <td>-0.003049</td>\n",
       "    </tr>\n",
       "    <tr>\n",
       "      <th>...</th>\n",
       "      <td>...</td>\n",
       "      <td>...</td>\n",
       "      <td>...</td>\n",
       "      <td>...</td>\n",
       "      <td>...</td>\n",
       "      <td>...</td>\n",
       "      <td>...</td>\n",
       "      <td>...</td>\n",
       "      <td>...</td>\n",
       "      <td>...</td>\n",
       "      <td>...</td>\n",
       "      <td>...</td>\n",
       "      <td>...</td>\n",
       "    </tr>\n",
       "    <tr>\n",
       "      <th>2023-02-17</th>\n",
       "      <td>0.039523</td>\n",
       "      <td>-0.007437</td>\n",
       "      <td>-0.001280</td>\n",
       "      <td>0.000000</td>\n",
       "      <td>-0.007491</td>\n",
       "      <td>-0.002529</td>\n",
       "      <td>-0.010287</td>\n",
       "      <td>-0.002894</td>\n",
       "      <td>0.002987</td>\n",
       "      <td>-0.027392</td>\n",
       "      <td>0.000000</td>\n",
       "      <td>0.022472</td>\n",
       "      <td>0.027174</td>\n",
       "    </tr>\n",
       "    <tr>\n",
       "      <th>2023-02-21</th>\n",
       "      <td>-0.047088</td>\n",
       "      <td>0.142358</td>\n",
       "      <td>-0.008974</td>\n",
       "      <td>-0.009162</td>\n",
       "      <td>0.001258</td>\n",
       "      <td>-0.017087</td>\n",
       "      <td>-0.012944</td>\n",
       "      <td>-0.001638</td>\n",
       "      <td>-0.003737</td>\n",
       "      <td>-0.002358</td>\n",
       "      <td>0.003081</td>\n",
       "      <td>0.021938</td>\n",
       "      <td>-0.010582</td>\n",
       "    </tr>\n",
       "    <tr>\n",
       "      <th>2023-02-22</th>\n",
       "      <td>-0.030752</td>\n",
       "      <td>-0.025361</td>\n",
       "      <td>0.001294</td>\n",
       "      <td>0.000000</td>\n",
       "      <td>-0.012982</td>\n",
       "      <td>-0.002692</td>\n",
       "      <td>-0.005563</td>\n",
       "      <td>-0.002410</td>\n",
       "      <td>-0.005626</td>\n",
       "      <td>-0.029018</td>\n",
       "      <td>0.003935</td>\n",
       "      <td>0.000000</td>\n",
       "      <td>-0.010695</td>\n",
       "    </tr>\n",
       "    <tr>\n",
       "      <th>2023-02-23</th>\n",
       "      <td>-0.011602</td>\n",
       "      <td>-0.051593</td>\n",
       "      <td>0.000000</td>\n",
       "      <td>0.002642</td>\n",
       "      <td>0.007637</td>\n",
       "      <td>0.004836</td>\n",
       "      <td>0.004995</td>\n",
       "      <td>0.002135</td>\n",
       "      <td>-0.000530</td>\n",
       "      <td>0.019473</td>\n",
       "      <td>0.000096</td>\n",
       "      <td>-0.008945</td>\n",
       "      <td>0.005405</td>\n",
       "    </tr>\n",
       "    <tr>\n",
       "      <th>2023-02-24</th>\n",
       "      <td>-0.035470</td>\n",
       "      <td>0.025071</td>\n",
       "      <td>-0.011628</td>\n",
       "      <td>-0.005270</td>\n",
       "      <td>-0.003368</td>\n",
       "      <td>-0.013318</td>\n",
       "      <td>-0.022664</td>\n",
       "      <td>-0.005227</td>\n",
       "      <td>-0.007195</td>\n",
       "      <td>0.012336</td>\n",
       "      <td>0.005832</td>\n",
       "      <td>-0.012635</td>\n",
       "      <td>0.000000</td>\n",
       "    </tr>\n",
       "  </tbody>\n",
       "</table>\n",
       "<p>716 rows × 13 columns</p>\n",
       "</div>"
      ],
      "text/plain": [
       "            Sol_Price       VIX     TPINX     FGBFX       DBC      ACWI  \\\n",
       "Date                                                                      \n",
       "2020-04-13  -0.118611 -0.011999  0.000998  0.003257  0.017301 -0.008000   \n",
       "2020-04-14  -0.149013 -0.082827 -0.000997  0.009740 -0.008503  0.025715   \n",
       "2020-04-15  -0.023075  0.081568  0.003903  0.005359 -0.020583 -0.024922   \n",
       "2020-04-16   0.068298 -0.017875  0.002991  0.000000 -0.002627  0.004260   \n",
       "2020-04-17  -0.043554 -0.048866  0.001988 -0.001066  0.004390  0.027268   \n",
       "...               ...       ...       ...       ...       ...       ...   \n",
       "2023-02-17   0.039523 -0.007437 -0.001280  0.000000 -0.007491 -0.002529   \n",
       "2023-02-21  -0.047088  0.142358 -0.008974 -0.009162  0.001258 -0.017087   \n",
       "2023-02-22  -0.030752 -0.025361  0.001294  0.000000 -0.012982 -0.002692   \n",
       "2023-02-23  -0.011602 -0.051593  0.000000  0.002642  0.007637  0.004836   \n",
       "2023-02-24  -0.035470  0.025071 -0.011628 -0.005270 -0.003368 -0.013318   \n",
       "\n",
       "              em_ntr  em_currency      Gold       Oil       USD  \\\n",
       "Date                                                              \n",
       "2020-04-13  0.003121    -0.001461  0.017140 -0.015378 -0.001708   \n",
       "2020-04-14  0.022738     0.000210  0.007868 -0.102633 -0.004630   \n",
       "2020-04-15 -0.025275    -0.003198 -0.005102 -0.011934  0.005764   \n",
       "2020-04-16  0.005762    -0.002443 -0.000865  0.000000  0.005731   \n",
       "2020-04-17  0.021007     0.001496 -0.019417 -0.080523 -0.002499   \n",
       "...              ...          ...       ...       ...       ...   \n",
       "2023-02-17 -0.010287    -0.002894  0.002987 -0.027392  0.000000   \n",
       "2023-02-21 -0.012944    -0.001638 -0.003737 -0.002358  0.003081   \n",
       "2023-02-22 -0.005563    -0.002410 -0.005626 -0.029018  0.003935   \n",
       "2023-02-23  0.004995     0.002135 -0.000530  0.019473  0.000096   \n",
       "2023-02-24 -0.022664    -0.005227 -0.007195  0.012336  0.005832   \n",
       "\n",
       "            BAMLEMHYHYLCRPIUSOAS    BAA10Y  \n",
       "Date                                        \n",
       "2020-04-13             -0.010073 -0.055402  \n",
       "2020-04-14             -0.041628 -0.014663  \n",
       "2020-04-15             -0.003861 -0.008929  \n",
       "2020-04-16             -0.005814 -0.015015  \n",
       "2020-04-17             -0.017544 -0.003049  \n",
       "...                          ...       ...  \n",
       "2023-02-17              0.022472  0.027174  \n",
       "2023-02-21              0.021938 -0.010582  \n",
       "2023-02-22              0.000000 -0.010695  \n",
       "2023-02-23             -0.008945  0.005405  \n",
       "2023-02-24             -0.012635  0.000000  \n",
       "\n",
       "[716 rows x 13 columns]"
      ]
     },
     "execution_count": 400,
     "metadata": {},
     "output_type": "execute_result"
    }
   ],
   "source": [
    "data=pd.concat([sol_pr,VIX,TPINX,FGBFX,DBC,ACWI,em_ntr,em_currency,Gold,Oil,USD,Liquidity_Index,Credit_Spread],axis=1,join = 'inner')\n",
    "data"
   ]
  },
  {
   "cell_type": "code",
   "execution_count": 401,
   "id": "4992702c",
   "metadata": {
    "id": "4992702c",
    "outputId": "8bac9a05-7a2d-428a-dd43-ba27662a9fe2",
    "scrolled": true
   },
   "outputs": [
    {
     "name": "stdout",
     "output_type": "stream",
     "text": [
      "<class 'pandas.core.frame.DataFrame'>\n",
      "Index: 716 entries, 2020-04-13 to 2023-02-24\n",
      "Data columns (total 13 columns):\n",
      " #   Column                Non-Null Count  Dtype  \n",
      "---  ------                --------------  -----  \n",
      " 0   Sol_Price             716 non-null    float64\n",
      " 1   VIX                   716 non-null    float64\n",
      " 2   TPINX                 716 non-null    float64\n",
      " 3   FGBFX                 716 non-null    float64\n",
      " 4   DBC                   716 non-null    float64\n",
      " 5   ACWI                  716 non-null    float64\n",
      " 6   em_ntr                716 non-null    float64\n",
      " 7   em_currency           716 non-null    float64\n",
      " 8   Gold                  716 non-null    float64\n",
      " 9   Oil                   716 non-null    float64\n",
      " 10  USD                   716 non-null    float64\n",
      " 11  BAMLEMHYHYLCRPIUSOAS  716 non-null    float64\n",
      " 12  BAA10Y                716 non-null    float64\n",
      "dtypes: float64(13)\n",
      "memory usage: 78.3+ KB\n"
     ]
    }
   ],
   "source": [
    "data.info()\n",
    "#convert objects to float"
   ]
  },
  {
   "cell_type": "code",
   "execution_count": 402,
   "id": "d6de0b21",
   "metadata": {
    "id": "d6de0b21",
    "outputId": "c31e9c7f-61ee-4984-a9e2-412d19e22953"
   },
   "outputs": [
    {
     "data": {
      "text/plain": [
       "Sol_Price               0\n",
       "VIX                     0\n",
       "TPINX                   0\n",
       "FGBFX                   0\n",
       "DBC                     0\n",
       "ACWI                    0\n",
       "em_ntr                  0\n",
       "em_currency             0\n",
       "Gold                    0\n",
       "Oil                     0\n",
       "USD                     0\n",
       "BAMLEMHYHYLCRPIUSOAS    0\n",
       "BAA10Y                  0\n",
       "dtype: int64"
      ]
     },
     "execution_count": 402,
     "metadata": {},
     "output_type": "execute_result"
    }
   ],
   "source": [
    "data.isnull().sum()"
   ]
  },
  {
   "cell_type": "code",
   "execution_count": 403,
   "id": "151c7924",
   "metadata": {
    "id": "151c7924",
    "outputId": "1b753251-2b1c-47a4-f5c5-dc77ecbac67b"
   },
   "outputs": [
    {
     "data": {
      "image/png": "[encoded data removed]",
      "text/plain": [
       "<Figure size 720x720 with 2 Axes>"
      ]
     },
     "metadata": {
      "needs_background": "light"
     },
     "output_type": "display_data"
    }
   ],
   "source": [
    "x_var=data.drop(columns=['Sol_Price'])\n",
    "y_var=data['Sol_Price']\n",
    "corr = x_var.corr()\n",
    "plt.figure(figsize = (10, 10))\n",
    "sns.heatmap(corr, annot=True)\n",
    "plt.show()"
   ]
  },
  {
   "cell_type": "code",
   "execution_count": 404,
   "id": "dabe35be",
   "metadata": {
    "id": "dabe35be",
    "outputId": "a1a329b3-db0e-4940-9886-ae48cd6e6ecc",
    "scrolled": false
   },
   "outputs": [
    {
     "data": {
      "text/html": [
       "<table class=\"simpletable\">\n",
       "<caption>OLS Regression Results</caption>\n",
       "<tr>\n",
       "  <th>Dep. Variable:</th>        <td>Sol_Price</td>    <th>  R-squared:         </th> <td>   0.118</td>\n",
       "</tr>\n",
       "<tr>\n",
       "  <th>Model:</th>                   <td>OLS</td>       <th>  Adj. R-squared:    </th> <td>   0.103</td>\n",
       "</tr>\n",
       "<tr>\n",
       "  <th>Method:</th>             <td>Least Squares</td>  <th>  F-statistic:       </th> <td>   7.874</td>\n",
       "</tr>\n",
       "<tr>\n",
       "  <th>Date:</th>             <td>Thu, 23 Mar 2023</td> <th>  Prob (F-statistic):</th> <td>6.81e-14</td>\n",
       "</tr>\n",
       "<tr>\n",
       "  <th>Time:</th>                 <td>20:54:41</td>     <th>  Log-Likelihood:    </th> <td>  816.14</td>\n",
       "</tr>\n",
       "<tr>\n",
       "  <th>No. Observations:</th>      <td>   716</td>      <th>  AIC:               </th> <td>  -1606.</td>\n",
       "</tr>\n",
       "<tr>\n",
       "  <th>Df Residuals:</th>          <td>   703</td>      <th>  BIC:               </th> <td>  -1547.</td>\n",
       "</tr>\n",
       "<tr>\n",
       "  <th>Df Model:</th>              <td>    12</td>      <th>                     </th>     <td> </td>   \n",
       "</tr>\n",
       "<tr>\n",
       "  <th>Covariance Type:</th>      <td>nonrobust</td>    <th>                     </th>     <td> </td>   \n",
       "</tr>\n",
       "</table>\n",
       "<table class=\"simpletable\">\n",
       "<tr>\n",
       "            <td></td>              <th>coef</th>     <th>std err</th>      <th>t</th>      <th>P>|t|</th>  <th>[0.025</th>    <th>0.975]</th>  \n",
       "</tr>\n",
       "<tr>\n",
       "  <th>Intercept</th>            <td>    0.0037</td> <td>    0.003</td> <td>    1.250</td> <td> 0.212</td> <td>   -0.002</td> <td>    0.010</td>\n",
       "</tr>\n",
       "<tr>\n",
       "  <th>VIX</th>                  <td>   -0.0580</td> <td>    0.054</td> <td>   -1.066</td> <td> 0.287</td> <td>   -0.165</td> <td>    0.049</td>\n",
       "</tr>\n",
       "<tr>\n",
       "  <th>TPINX</th>                <td>    0.2722</td> <td>    1.028</td> <td>    0.265</td> <td> 0.791</td> <td>   -1.745</td> <td>    2.290</td>\n",
       "</tr>\n",
       "<tr>\n",
       "  <th>FGBFX</th>                <td>   -0.7519</td> <td>    0.998</td> <td>   -0.753</td> <td> 0.452</td> <td>   -2.712</td> <td>    1.208</td>\n",
       "</tr>\n",
       "<tr>\n",
       "  <th>DBC</th>                  <td>   -0.0425</td> <td>    0.253</td> <td>   -0.168</td> <td> 0.867</td> <td>   -0.539</td> <td>    0.454</td>\n",
       "</tr>\n",
       "<tr>\n",
       "  <th>ACWI</th>                 <td>    1.6814</td> <td>    0.539</td> <td>    3.120</td> <td> 0.002</td> <td>    0.623</td> <td>    2.740</td>\n",
       "</tr>\n",
       "<tr>\n",
       "  <th>em_ntr</th>               <td>    0.3078</td> <td>    0.403</td> <td>    0.765</td> <td> 0.445</td> <td>   -0.483</td> <td>    1.098</td>\n",
       "</tr>\n",
       "<tr>\n",
       "  <th>em_currency</th>          <td>    0.0319</td> <td>    1.548</td> <td>    0.021</td> <td> 0.984</td> <td>   -3.007</td> <td>    3.071</td>\n",
       "</tr>\n",
       "<tr>\n",
       "  <th>Gold</th>                 <td>    0.2145</td> <td>    0.387</td> <td>    0.554</td> <td> 0.580</td> <td>   -0.546</td> <td>    0.975</td>\n",
       "</tr>\n",
       "<tr>\n",
       "  <th>Oil</th>                  <td>    0.0124</td> <td>    0.024</td> <td>    0.522</td> <td> 0.602</td> <td>   -0.034</td> <td>    0.059</td>\n",
       "</tr>\n",
       "<tr>\n",
       "  <th>USD</th>                  <td>   -0.7210</td> <td>    0.925</td> <td>   -0.779</td> <td> 0.436</td> <td>   -2.537</td> <td>    1.095</td>\n",
       "</tr>\n",
       "<tr>\n",
       "  <th>BAMLEMHYHYLCRPIUSOAS</th> <td>    0.4602</td> <td>    0.276</td> <td>    1.665</td> <td> 0.096</td> <td>   -0.082</td> <td>    1.003</td>\n",
       "</tr>\n",
       "<tr>\n",
       "  <th>BAA10Y</th>               <td>   -0.3335</td> <td>    0.227</td> <td>   -1.469</td> <td> 0.142</td> <td>   -0.779</td> <td>    0.112</td>\n",
       "</tr>\n",
       "</table>\n",
       "<table class=\"simpletable\">\n",
       "<tr>\n",
       "  <th>Omnibus:</th>       <td>97.132</td> <th>  Durbin-Watson:     </th> <td>   2.033</td> \n",
       "</tr>\n",
       "<tr>\n",
       "  <th>Prob(Omnibus):</th> <td> 0.000</td> <th>  Jarque-Bera (JB):  </th> <td> 542.027</td> \n",
       "</tr>\n",
       "<tr>\n",
       "  <th>Skew:</th>          <td> 0.450</td> <th>  Prob(JB):          </th> <td>2.00e-118</td>\n",
       "</tr>\n",
       "<tr>\n",
       "  <th>Kurtosis:</th>      <td> 7.166</td> <th>  Cond. No.          </th> <td>    548.</td> \n",
       "</tr>\n",
       "</table><br/><br/>Notes:<br/>[1] Standard Errors assume that the covariance matrix of the errors is correctly specified."
      ],
      "text/plain": [
       "<class 'statsmodels.iolib.summary.Summary'>\n",
       "\"\"\"\n",
       "                            OLS Regression Results                            \n",
       "==============================================================================\n",
       "Dep. Variable:              Sol_Price   R-squared:                       0.118\n",
       "Model:                            OLS   Adj. R-squared:                  0.103\n",
       "Method:                 Least Squares   F-statistic:                     7.874\n",
       "Date:                Thu, 23 Mar 2023   Prob (F-statistic):           6.81e-14\n",
       "Time:                        20:54:41   Log-Likelihood:                 816.14\n",
       "No. Observations:                 716   AIC:                            -1606.\n",
       "Df Residuals:                     703   BIC:                            -1547.\n",
       "Df Model:                          12                                         \n",
       "Covariance Type:            nonrobust                                         \n",
       "========================================================================================\n",
       "                           coef    std err          t      P>|t|      [0.025      0.975]\n",
       "----------------------------------------------------------------------------------------\n",
       "Intercept                0.0037      0.003      1.250      0.212      -0.002       0.010\n",
       "VIX                     -0.0580      0.054     -1.066      0.287      -0.165       0.049\n",
       "TPINX                    0.2722      1.028      0.265      0.791      -1.745       2.290\n",
       "FGBFX                   -0.7519      0.998     -0.753      0.452      -2.712       1.208\n",
       "DBC                     -0.0425      0.253     -0.168      0.867      -0.539       0.454\n",
       "ACWI                     1.6814      0.539      3.120      0.002       0.623       2.740\n",
       "em_ntr                   0.3078      0.403      0.765      0.445      -0.483       1.098\n",
       "em_currency              0.0319      1.548      0.021      0.984      -3.007       3.071\n",
       "Gold                     0.2145      0.387      0.554      0.580      -0.546       0.975\n",
       "Oil                      0.0124      0.024      0.522      0.602      -0.034       0.059\n",
       "USD                     -0.7210      0.925     -0.779      0.436      -2.537       1.095\n",
       "BAMLEMHYHYLCRPIUSOAS     0.4602      0.276      1.665      0.096      -0.082       1.003\n",
       "BAA10Y                  -0.3335      0.227     -1.469      0.142      -0.779       0.112\n",
       "==============================================================================\n",
       "Omnibus:                       97.132   Durbin-Watson:                   2.033\n",
       "Prob(Omnibus):                  0.000   Jarque-Bera (JB):              542.027\n",
       "Skew:                           0.450   Prob(JB):                    2.00e-118\n",
       "Kurtosis:                       7.166   Cond. No.                         548.\n",
       "==============================================================================\n",
       "\n",
       "Notes:\n",
       "[1] Standard Errors assume that the covariance matrix of the errors is correctly specified.\n",
       "\"\"\""
      ]
     },
     "execution_count": 404,
     "metadata": {},
     "output_type": "execute_result"
    }
   ],
   "source": [
    "import statsmodels.formula.api as smf\n",
    "\n",
    "reg = smf.ols('Sol_Price ~ VIX+TPINX+FGBFX+DBC+ACWI+em_ntr+em_currency+Gold+Oil+USD+BAMLEMHYHYLCRPIUSOAS+BAA10Y', data=data)\n",
    "reg_result = reg.fit()\n",
    "reg_result.summary()"
   ]
  },
  {
   "cell_type": "markdown",
   "id": "807fbf8a",
   "metadata": {
    "id": "71753717"
   },
   "source": [
    "### if to deal with multicollinearity"
   ]
  },
  {
   "cell_type": "code",
   "execution_count": 405,
   "id": "f6d75c25",
   "metadata": {},
   "outputs": [],
   "source": [
    "# This is the summary table function I got from Mehdi\n",
    "#https://stackoverflow.com/questions/40072870/statistical-summary-table-in-sklearn-linear-model-ridge\n",
    "from statsmodels.tools.tools import pinv_extended\n",
    "import statsmodels.api as sm\n",
    "import sklearn, statsmodels\n",
    "\n",
    "def regression_analysis(X, y, model):\n",
    "    \n",
    "    is_statsmodels = False\n",
    "    is_sklearn = False\n",
    "    \n",
    "    # check for accepted linear models\n",
    "    if type(model) in [sklearn.linear_model._base.LinearRegression,\n",
    "                       sklearn.linear_model._ridge.Ridge,\n",
    "                       sklearn.linear_model._ridge.RidgeCV,\n",
    "                       sklearn.linear_model._coordinate_descent.Lasso,\n",
    "                       sklearn.linear_model._coordinate_descent.LassoCV,\n",
    "                       sklearn.linear_model._coordinate_descent.ElasticNet,\n",
    "                       sklearn.linear_model._coordinate_descent.ElasticNetCV,\n",
    "                      ]:\n",
    "        is_sklearn = True\n",
    "    elif type(model) in [statsmodels.regression.linear_model.OLS, \n",
    "                         statsmodels.base.elastic_net.RegularizedResults,\n",
    "                        ]:\n",
    "        is_statsmodels = True\n",
    "    else:\n",
    "        print(\"Only linear models are supported!\")\n",
    "        return None\n",
    "    \n",
    "    \n",
    "    \n",
    "    has_intercept = False\n",
    "    \n",
    "    if is_statsmodels and all(np.array(X)[:,0]==1):\n",
    "        # statsmodels add_constant has been used already\n",
    "        has_intercept = True  \n",
    "    elif is_sklearn and model.intercept_:\n",
    "        has_intercept = True\n",
    "        \n",
    "\n",
    "    \n",
    "    if is_statsmodels:\n",
    "        # add_constant has been used already\n",
    "        x = X\n",
    "        model_params = model.params\n",
    "    else: # sklearn model\n",
    "        if has_intercept:\n",
    "            x = sm.add_constant(X)\n",
    "            model_params = np.hstack([np.array([model.intercept_]), model.coef_])\n",
    "        else:\n",
    "            x = X\n",
    "            model_params = model.coef_\n",
    "        \n",
    "    #y = np.array(y).ravel()\n",
    "    \n",
    "    # define the OLS model\n",
    "    olsModel = sm.OLS(y, x)\n",
    "    \n",
    "    pinv_wexog,_ = pinv_extended(x)\n",
    "    normalized_cov_params = np.dot(pinv_wexog, np.transpose(pinv_wexog))\n",
    "    \n",
    "    \n",
    "    return sm.regression.linear_model.OLSResults(olsModel, model_params, normalized_cov_params)\n",
    "    "
   ]
  },
  {
   "cell_type": "code",
   "execution_count": 406,
   "id": "d1a41652",
   "metadata": {
    "id": "d1a41652",
    "outputId": "fbe24c56-cef6-4f3e-835f-ccd7eda628f7"
   },
   "outputs": [
    {
     "data": {
      "text/html": [
       "<table class=\"simpletable\">\n",
       "<caption>OLS Regression Results</caption>\n",
       "<tr>\n",
       "  <th>Dep. Variable:</th>        <td>Sol_Price</td>    <th>  R-squared:         </th> <td>   0.079</td>\n",
       "</tr>\n",
       "<tr>\n",
       "  <th>Model:</th>                   <td>OLS</td>       <th>  Adj. R-squared:    </th> <td>   0.063</td>\n",
       "</tr>\n",
       "<tr>\n",
       "  <th>Method:</th>             <td>Least Squares</td>  <th>  F-statistic:       </th> <td>   5.021</td>\n",
       "</tr>\n",
       "<tr>\n",
       "  <th>Date:</th>             <td>Thu, 23 Mar 2023</td> <th>  Prob (F-statistic):</th> <td>4.77e-08</td>\n",
       "</tr>\n",
       "<tr>\n",
       "  <th>Time:</th>                 <td>20:54:49</td>     <th>  Log-Likelihood:    </th> <td>  800.43</td>\n",
       "</tr>\n",
       "<tr>\n",
       "  <th>No. Observations:</th>      <td>   716</td>      <th>  AIC:               </th> <td>  -1575.</td>\n",
       "</tr>\n",
       "<tr>\n",
       "  <th>Df Residuals:</th>          <td>   703</td>      <th>  BIC:               </th> <td>  -1515.</td>\n",
       "</tr>\n",
       "<tr>\n",
       "  <th>Df Model:</th>              <td>    12</td>      <th>                     </th>     <td> </td>   \n",
       "</tr>\n",
       "<tr>\n",
       "  <th>Covariance Type:</th>      <td>nonrobust</td>    <th>                     </th>     <td> </td>   \n",
       "</tr>\n",
       "</table>\n",
       "<table class=\"simpletable\">\n",
       "<tr>\n",
       "            <td></td>              <th>coef</th>     <th>std err</th>      <th>t</th>      <th>P>|t|</th>  <th>[0.025</th>    <th>0.975]</th>  \n",
       "</tr>\n",
       "<tr>\n",
       "  <th>const</th>                <td>    0.0047</td> <td>    0.003</td> <td>    1.548</td> <td> 0.122</td> <td>   -0.001</td> <td>    0.011</td>\n",
       "</tr>\n",
       "<tr>\n",
       "  <th>VIX</th>                  <td>   -0.2013</td> <td>    0.056</td> <td>   -3.618</td> <td> 0.000</td> <td>   -0.311</td> <td>   -0.092</td>\n",
       "</tr>\n",
       "<tr>\n",
       "  <th>TPINX</th>                <td>    0.0217</td> <td>    1.050</td> <td>    0.021</td> <td> 0.983</td> <td>   -2.040</td> <td>    2.084</td>\n",
       "</tr>\n",
       "<tr>\n",
       "  <th>FGBFX</th>                <td>    0.0060</td> <td>    1.020</td> <td>    0.006</td> <td> 0.995</td> <td>   -1.998</td> <td>    2.010</td>\n",
       "</tr>\n",
       "<tr>\n",
       "  <th>DBC</th>                  <td>    0.0326</td> <td>    0.258</td> <td>    0.126</td> <td> 0.900</td> <td>   -0.475</td> <td>    0.540</td>\n",
       "</tr>\n",
       "<tr>\n",
       "  <th>ACWI</th>                 <td>    0.1038</td> <td>    0.551</td> <td>    0.188</td> <td> 0.851</td> <td>   -0.978</td> <td>    1.185</td>\n",
       "</tr>\n",
       "<tr>\n",
       "  <th>em_ntr</th>               <td>    0.1062</td> <td>    0.411</td> <td>    0.258</td> <td> 0.796</td> <td>   -0.702</td> <td>    0.914</td>\n",
       "</tr>\n",
       "<tr>\n",
       "  <th>em_currency</th>          <td>    0.0079</td> <td>    1.582</td> <td>    0.005</td> <td> 0.996</td> <td>   -3.099</td> <td>    3.115</td>\n",
       "</tr>\n",
       "<tr>\n",
       "  <th>Gold</th>                 <td>    0.0356</td> <td>    0.396</td> <td>    0.090</td> <td> 0.928</td> <td>   -0.742</td> <td>    0.813</td>\n",
       "</tr>\n",
       "<tr>\n",
       "  <th>Oil</th>                  <td>    0.0196</td> <td>    0.024</td> <td>    0.807</td> <td> 0.420</td> <td>   -0.028</td> <td>    0.067</td>\n",
       "</tr>\n",
       "<tr>\n",
       "  <th>USD</th>                  <td>   -0.0323</td> <td>    0.946</td> <td>   -0.034</td> <td> 0.973</td> <td>   -1.889</td> <td>    1.824</td>\n",
       "</tr>\n",
       "<tr>\n",
       "  <th>BAMLEMHYHYLCRPIUSOAS</th> <td>    0.0068</td> <td>    0.283</td> <td>    0.024</td> <td> 0.981</td> <td>   -0.548</td> <td>    0.562</td>\n",
       "</tr>\n",
       "<tr>\n",
       "  <th>BAA10Y</th>               <td>   -0.0187</td> <td>    0.232</td> <td>   -0.080</td> <td> 0.936</td> <td>   -0.474</td> <td>    0.437</td>\n",
       "</tr>\n",
       "</table>\n",
       "<table class=\"simpletable\">\n",
       "<tr>\n",
       "  <th>Omnibus:</th>       <td>101.300</td> <th>  Durbin-Watson:     </th> <td>   2.074</td> \n",
       "</tr>\n",
       "<tr>\n",
       "  <th>Prob(Omnibus):</th> <td> 0.000</td>  <th>  Jarque-Bera (JB):  </th> <td> 646.048</td> \n",
       "</tr>\n",
       "<tr>\n",
       "  <th>Skew:</th>          <td> 0.431</td>  <th>  Prob(JB):          </th> <td>5.16e-141</td>\n",
       "</tr>\n",
       "<tr>\n",
       "  <th>Kurtosis:</th>      <td> 7.573</td>  <th>  Cond. No.          </th> <td>    548.</td> \n",
       "</tr>\n",
       "</table><br/><br/>Notes:<br/>[1] Standard Errors assume that the covariance matrix of the errors is correctly specified."
      ],
      "text/plain": [
       "<class 'statsmodels.iolib.summary.Summary'>\n",
       "\"\"\"\n",
       "                            OLS Regression Results                            \n",
       "==============================================================================\n",
       "Dep. Variable:              Sol_Price   R-squared:                       0.079\n",
       "Model:                            OLS   Adj. R-squared:                  0.063\n",
       "Method:                 Least Squares   F-statistic:                     5.021\n",
       "Date:                Thu, 23 Mar 2023   Prob (F-statistic):           4.77e-08\n",
       "Time:                        20:54:49   Log-Likelihood:                 800.43\n",
       "No. Observations:                 716   AIC:                            -1575.\n",
       "Df Residuals:                     703   BIC:                            -1515.\n",
       "Df Model:                          12                                         \n",
       "Covariance Type:            nonrobust                                         \n",
       "========================================================================================\n",
       "                           coef    std err          t      P>|t|      [0.025      0.975]\n",
       "----------------------------------------------------------------------------------------\n",
       "const                    0.0047      0.003      1.548      0.122      -0.001       0.011\n",
       "VIX                     -0.2013      0.056     -3.618      0.000      -0.311      -0.092\n",
       "TPINX                    0.0217      1.050      0.021      0.983      -2.040       2.084\n",
       "FGBFX                    0.0060      1.020      0.006      0.995      -1.998       2.010\n",
       "DBC                      0.0326      0.258      0.126      0.900      -0.475       0.540\n",
       "ACWI                     0.1038      0.551      0.188      0.851      -0.978       1.185\n",
       "em_ntr                   0.1062      0.411      0.258      0.796      -0.702       0.914\n",
       "em_currency              0.0079      1.582      0.005      0.996      -3.099       3.115\n",
       "Gold                     0.0356      0.396      0.090      0.928      -0.742       0.813\n",
       "Oil                      0.0196      0.024      0.807      0.420      -0.028       0.067\n",
       "USD                     -0.0323      0.946     -0.034      0.973      -1.889       1.824\n",
       "BAMLEMHYHYLCRPIUSOAS     0.0068      0.283      0.024      0.981      -0.548       0.562\n",
       "BAA10Y                  -0.0187      0.232     -0.080      0.936      -0.474       0.437\n",
       "==============================================================================\n",
       "Omnibus:                      101.300   Durbin-Watson:                   2.074\n",
       "Prob(Omnibus):                  0.000   Jarque-Bera (JB):              646.048\n",
       "Skew:                           0.431   Prob(JB):                    5.16e-141\n",
       "Kurtosis:                       7.573   Cond. No.                         548.\n",
       "==============================================================================\n",
       "\n",
       "Notes:\n",
       "[1] Standard Errors assume that the covariance matrix of the errors is correctly specified.\n",
       "\"\"\""
      ]
     },
     "execution_count": 406,
     "metadata": {},
     "output_type": "execute_result"
    }
   ],
   "source": [
    "#Ridge\n",
    "from sklearn.linear_model import LinearRegression, Ridge, Lasso\n",
    "\n",
    "ridge=Ridge()\n",
    "ridge.fit(x_var, y_var)\n",
    "\n",
    "rdg_result = regression_analysis(x_var,y_var,ridge)\n",
    "rdg_result.summary()"
   ]
  },
  {
   "cell_type": "code",
   "execution_count": 407,
   "id": "ef2807fe",
   "metadata": {
    "id": "ef2807fe",
    "outputId": "cf28edbe-e168-46af-b8f1-3b50e4306280"
   },
   "outputs": [
    {
     "data": {
      "text/html": [
       "<table class=\"simpletable\">\n",
       "<caption>OLS Regression Results</caption>\n",
       "<tr>\n",
       "  <th>Dep. Variable:</th>        <td>Sol_Price</td>    <th>  R-squared:         </th> <td>   0.000</td>\n",
       "</tr>\n",
       "<tr>\n",
       "  <th>Model:</th>                   <td>OLS</td>       <th>  Adj. R-squared:    </th> <td>  -0.017</td>\n",
       "</tr>\n",
       "<tr>\n",
       "  <th>Method:</th>             <td>Least Squares</td>  <th>  F-statistic:       </th> <td>   0.000</td>\n",
       "</tr>\n",
       "<tr>\n",
       "  <th>Date:</th>             <td>Thu, 23 Mar 2023</td> <th>  Prob (F-statistic):</th>  <td>  1.00</td> \n",
       "</tr>\n",
       "<tr>\n",
       "  <th>Time:</th>                 <td>20:54:56</td>     <th>  Log-Likelihood:    </th> <td>  770.99</td>\n",
       "</tr>\n",
       "<tr>\n",
       "  <th>No. Observations:</th>      <td>   716</td>      <th>  AIC:               </th> <td>  -1516.</td>\n",
       "</tr>\n",
       "<tr>\n",
       "  <th>Df Residuals:</th>          <td>   703</td>      <th>  BIC:               </th> <td>  -1457.</td>\n",
       "</tr>\n",
       "<tr>\n",
       "  <th>Df Model:</th>              <td>    12</td>      <th>                     </th>     <td> </td>   \n",
       "</tr>\n",
       "<tr>\n",
       "  <th>Covariance Type:</th>      <td>nonrobust</td>    <th>                     </th>     <td> </td>   \n",
       "</tr>\n",
       "</table>\n",
       "<table class=\"simpletable\">\n",
       "<tr>\n",
       "            <td></td>              <th>coef</th>     <th>std err</th>      <th>t</th>      <th>P>|t|</th>  <th>[0.025</th>    <th>0.975]</th>  \n",
       "</tr>\n",
       "<tr>\n",
       "  <th>const</th>                <td>    0.0043</td> <td>    0.003</td> <td>    1.367</td> <td> 0.172</td> <td>   -0.002</td> <td>    0.011</td>\n",
       "</tr>\n",
       "<tr>\n",
       "  <th>VIX</th>                  <td>        -0</td> <td>    0.058</td> <td>       -0</td> <td> 1.000</td> <td>   -0.114</td> <td>    0.114</td>\n",
       "</tr>\n",
       "<tr>\n",
       "  <th>TPINX</th>                <td>         0</td> <td>    1.094</td> <td>        0</td> <td> 1.000</td> <td>   -2.149</td> <td>    2.149</td>\n",
       "</tr>\n",
       "<tr>\n",
       "  <th>FGBFX</th>                <td>         0</td> <td>    1.063</td> <td>        0</td> <td> 1.000</td> <td>   -2.088</td> <td>    2.088</td>\n",
       "</tr>\n",
       "<tr>\n",
       "  <th>DBC</th>                  <td>         0</td> <td>    0.269</td> <td>        0</td> <td> 1.000</td> <td>   -0.529</td> <td>    0.529</td>\n",
       "</tr>\n",
       "<tr>\n",
       "  <th>ACWI</th>                 <td>         0</td> <td>    0.574</td> <td>        0</td> <td> 1.000</td> <td>   -1.127</td> <td>    1.127</td>\n",
       "</tr>\n",
       "<tr>\n",
       "  <th>em_ntr</th>               <td>         0</td> <td>    0.429</td> <td>        0</td> <td> 1.000</td> <td>   -0.842</td> <td>    0.842</td>\n",
       "</tr>\n",
       "<tr>\n",
       "  <th>em_currency</th>          <td>         0</td> <td>    1.649</td> <td>        0</td> <td> 1.000</td> <td>   -3.237</td> <td>    3.237</td>\n",
       "</tr>\n",
       "<tr>\n",
       "  <th>Gold</th>                 <td>         0</td> <td>    0.412</td> <td>        0</td> <td> 1.000</td> <td>   -0.810</td> <td>    0.810</td>\n",
       "</tr>\n",
       "<tr>\n",
       "  <th>Oil</th>                  <td>         0</td> <td>    0.025</td> <td>        0</td> <td> 1.000</td> <td>   -0.050</td> <td>    0.050</td>\n",
       "</tr>\n",
       "<tr>\n",
       "  <th>USD</th>                  <td>        -0</td> <td>    0.985</td> <td>       -0</td> <td> 1.000</td> <td>   -1.935</td> <td>    1.935</td>\n",
       "</tr>\n",
       "<tr>\n",
       "  <th>BAMLEMHYHYLCRPIUSOAS</th> <td>        -0</td> <td>    0.294</td> <td>       -0</td> <td> 1.000</td> <td>   -0.578</td> <td>    0.578</td>\n",
       "</tr>\n",
       "<tr>\n",
       "  <th>BAA10Y</th>               <td>        -0</td> <td>    0.242</td> <td>       -0</td> <td> 1.000</td> <td>   -0.475</td> <td>    0.475</td>\n",
       "</tr>\n",
       "</table>\n",
       "<table class=\"simpletable\">\n",
       "<tr>\n",
       "  <th>Omnibus:</th>       <td>96.694</td> <th>  Durbin-Watson:     </th> <td>   2.107</td> \n",
       "</tr>\n",
       "<tr>\n",
       "  <th>Prob(Omnibus):</th> <td> 0.000</td> <th>  Jarque-Bera (JB):  </th> <td> 561.124</td> \n",
       "</tr>\n",
       "<tr>\n",
       "  <th>Skew:</th>          <td> 0.431</td> <th>  Prob(JB):          </th> <td>1.42e-122</td>\n",
       "</tr>\n",
       "<tr>\n",
       "  <th>Kurtosis:</th>      <td> 7.250</td> <th>  Cond. No.          </th> <td>    548.</td> \n",
       "</tr>\n",
       "</table><br/><br/>Notes:<br/>[1] Standard Errors assume that the covariance matrix of the errors is correctly specified."
      ],
      "text/plain": [
       "<class 'statsmodels.iolib.summary.Summary'>\n",
       "\"\"\"\n",
       "                            OLS Regression Results                            \n",
       "==============================================================================\n",
       "Dep. Variable:              Sol_Price   R-squared:                       0.000\n",
       "Model:                            OLS   Adj. R-squared:                 -0.017\n",
       "Method:                 Least Squares   F-statistic:                     0.000\n",
       "Date:                Thu, 23 Mar 2023   Prob (F-statistic):               1.00\n",
       "Time:                        20:54:56   Log-Likelihood:                 770.99\n",
       "No. Observations:                 716   AIC:                            -1516.\n",
       "Df Residuals:                     703   BIC:                            -1457.\n",
       "Df Model:                          12                                         \n",
       "Covariance Type:            nonrobust                                         \n",
       "========================================================================================\n",
       "                           coef    std err          t      P>|t|      [0.025      0.975]\n",
       "----------------------------------------------------------------------------------------\n",
       "const                    0.0043      0.003      1.367      0.172      -0.002       0.011\n",
       "VIX                          -0      0.058         -0      1.000      -0.114       0.114\n",
       "TPINX                         0      1.094          0      1.000      -2.149       2.149\n",
       "FGBFX                         0      1.063          0      1.000      -2.088       2.088\n",
       "DBC                           0      0.269          0      1.000      -0.529       0.529\n",
       "ACWI                          0      0.574          0      1.000      -1.127       1.127\n",
       "em_ntr                        0      0.429          0      1.000      -0.842       0.842\n",
       "em_currency                   0      1.649          0      1.000      -3.237       3.237\n",
       "Gold                          0      0.412          0      1.000      -0.810       0.810\n",
       "Oil                           0      0.025          0      1.000      -0.050       0.050\n",
       "USD                          -0      0.985         -0      1.000      -1.935       1.935\n",
       "BAMLEMHYHYLCRPIUSOAS         -0      0.294         -0      1.000      -0.578       0.578\n",
       "BAA10Y                       -0      0.242         -0      1.000      -0.475       0.475\n",
       "==============================================================================\n",
       "Omnibus:                       96.694   Durbin-Watson:                   2.107\n",
       "Prob(Omnibus):                  0.000   Jarque-Bera (JB):              561.124\n",
       "Skew:                           0.431   Prob(JB):                    1.42e-122\n",
       "Kurtosis:                       7.250   Cond. No.                         548.\n",
       "==============================================================================\n",
       "\n",
       "Notes:\n",
       "[1] Standard Errors assume that the covariance matrix of the errors is correctly specified.\n",
       "\"\"\""
      ]
     },
     "execution_count": 407,
     "metadata": {},
     "output_type": "execute_result"
    }
   ],
   "source": [
    "#Lasso\n",
    "lasso=Lasso()\n",
    "lasso.fit(x_var, y_var)\n",
    "\n",
    "las_result = regression_analysis(x_var,y_var,lasso)\n",
    "las_result.summary()"
   ]
  },
  {
   "cell_type": "markdown",
   "id": "4cd8fa2d",
   "metadata": {},
   "source": [
    "## PCA: Finding the common drivers"
   ]
  },
  {
   "cell_type": "code",
   "execution_count": 408,
   "id": "937a10db",
   "metadata": {},
   "outputs": [],
   "source": [
    "#!pip install factor_analyzer\n",
    "import factor_analyzer"
   ]
  },
  {
   "cell_type": "code",
   "execution_count": 409,
   "id": "0201426c",
   "metadata": {},
   "outputs": [],
   "source": [
    "# some functions to format PCA results\n",
    "def get_loadings_communalities(pca,round_dig=2,index_names=None):\n",
    "  '''Returns a DataFrame containings the loadings'''\n",
    "  df = pd.DataFrame(\n",
    "      pca.loadings_,\n",
    "      index=index_names if index_names else [f'q{i}' for i in range(1,1+pca.loadings_.shape[0])],\n",
    "      columns=[f'RC{i}' for i in range(1,1+pca.loadings_.shape[1])] if pca.rotation else [f'PC{i}' for i in range(1,1+pca.loadings_.shape[1])]\n",
    "      )\n",
    "  if pca.rotation:\n",
    "    df['communalities']=pca.get_communalities()\n",
    "  df=df.round(3)\n",
    "  return  df\n",
    "\n",
    "def get_summary(pca,round_dig=2):\n",
    "  ''' Print a summary of the PCA fit '''\n",
    "  return pd.DataFrame(\n",
    "      [pca.get_factor_variance()[0],\n",
    "       pca.get_factor_variance()[1],\n",
    "       pca.get_factor_variance()[2]],\n",
    "       columns=['PC{}'.format(i) for i in\n",
    "                range(1,1+len(pca.get_factor_variance()[0]))],\n",
    "      index=['Sum of Squared Loadings','Proportion of Variance Explained',\n",
    "             'Cumulative Proportion']\n",
    "            ).round(round_dig)"
   ]
  },
  {
   "cell_type": "markdown",
   "id": "02c501be",
   "metadata": {
    "id": "c9d5dad6"
   },
   "source": [
    "Adding variables"
   ]
  },
  {
   "cell_type": "code",
   "execution_count": 410,
   "id": "9b736d63",
   "metadata": {},
   "outputs": [
    {
     "name": "stdout",
     "output_type": "stream",
     "text": [
      "[*********************100%***********************]  1 of 1 completed\n"
     ]
    }
   ],
   "source": [
    "Solana= yf.download('SOL-USD',period='36mo',ignore_tz=True)\n",
    "Solana['Date']=Solana.index\n",
    "Solana['Date'] = pd.to_datetime(Solana['Date']).dt.date\n",
    "Solana.set_index('Date', inplace=True)\n",
    "Solana['Solana']=Solana['Adj Close'].pct_change()\n",
    "Solana=Solana[['Solana']]"
   ]
  },
  {
   "cell_type": "code",
   "execution_count": 411,
   "id": "c8dbdc4e",
   "metadata": {
    "id": "c8dbdc4e",
    "outputId": "e599e5b2-a83a-4f22-d656-088a3217215f"
   },
   "outputs": [
    {
     "name": "stdout",
     "output_type": "stream",
     "text": [
      "[*********************100%***********************]  1 of 1 completed\n"
     ]
    }
   ],
   "source": [
    "Polygon= yf.download('MATIC-USD',period='36mo',ignore_tz=True)\n",
    "Polygon['Date']=Polygon.index\n",
    "Polygon['Date'] = pd.to_datetime(Polygon['Date']).dt.date\n",
    "Polygon.set_index('Date', inplace=True)\n",
    "Polygon['Polygon']=Polygon['Adj Close'].pct_change()\n",
    "Polygon=Polygon[['Polygon']]"
   ]
  },
  {
   "cell_type": "code",
   "execution_count": 412,
   "id": "81684df5",
   "metadata": {
    "id": "81684df5",
    "outputId": "c744bf41-b312-44ac-f985-f67bc293c8de"
   },
   "outputs": [
    {
     "name": "stdout",
     "output_type": "stream",
     "text": [
      "[*********************100%***********************]  1 of 1 completed\n"
     ]
    }
   ],
   "source": [
    "Ethereum=yf.download('ETH-USD',period='36mo',ignore_tz=True)\n",
    "Ethereum['Date']=Ethereum.index\n",
    "Ethereum['Date'] = pd.to_datetime(Ethereum['Date']).dt.date\n",
    "Ethereum.set_index('Date', inplace=True)\n",
    "Ethereum['Ethereum']=Ethereum['Adj Close'].pct_change()\n",
    "Ethereum=Ethereum[['Ethereum']]"
   ]
  },
  {
   "cell_type": "code",
   "execution_count": 413,
   "id": "f1945e4c",
   "metadata": {},
   "outputs": [
    {
     "name": "stdout",
     "output_type": "stream",
     "text": [
      "[*********************100%***********************]  1 of 1 completed\n"
     ]
    }
   ],
   "source": [
    "Bitcoin=yf.download('BTC-USD',period='36mo',ignore_tz=True)\n",
    "Bitcoin['Date']=Bitcoin.index\n",
    "Bitcoin['Date'] = pd.to_datetime(Bitcoin['Date']).dt.date\n",
    "Bitcoin.set_index('Date', inplace=True)\n",
    "Bitcoin['Bitcoin']=Bitcoin['Adj Close'].pct_change()\n",
    "Bitcoin=Bitcoin[['Bitcoin']]"
   ]
  },
  {
   "cell_type": "code",
   "execution_count": 414,
   "id": "26eb768d",
   "metadata": {},
   "outputs": [
    {
     "name": "stdout",
     "output_type": "stream",
     "text": [
      "[*********************100%***********************]  1 of 1 completed\n"
     ]
    }
   ],
   "source": [
    "Gold= yf.download('GLD',period='36mo',ignore_tz=True)\n",
    "Gold['Date']=Gold.index\n",
    "Gold['Date'] = pd.to_datetime(Gold['Date']).dt.date\n",
    "Gold.set_index('Date', inplace=True)\n",
    "Gold['Gold']=Gold['Adj Close'].pct_change()\n",
    "Gold=Gold[['Gold']]"
   ]
  },
  {
   "cell_type": "code",
   "execution_count": 415,
   "id": "c0790fb4",
   "metadata": {},
   "outputs": [
    {
     "name": "stdout",
     "output_type": "stream",
     "text": [
      "[*********************100%***********************]  1 of 1 completed\n"
     ]
    }
   ],
   "source": [
    "USD= yf.download('DX-Y.NYB',period='36mo',ignore_tz=True)\n",
    "USD['Date']=USD.index\n",
    "USD['Date'] = pd.to_datetime(USD['Date']).dt.date\n",
    "USD.set_index('Date', inplace=True)\n",
    "USD['USD']=USD['Adj Close'].pct_change()\n",
    "USD=USD[['USD']]"
   ]
  },
  {
   "cell_type": "code",
   "execution_count": null,
   "id": "76f8a78e",
   "metadata": {},
   "outputs": [],
   "source": [
    "#adding other coins used in 2 sigma's article"
   ]
  },
  {
   "cell_type": "code",
   "execution_count": 416,
   "id": "9ee976b8",
   "metadata": {},
   "outputs": [
    {
     "name": "stdout",
     "output_type": "stream",
     "text": [
      "[*********************100%***********************]  1 of 1 completed\n"
     ]
    }
   ],
   "source": [
    "XRP= yf.download('XRP-USD',period='36mo',ignore_tz=True)\n",
    "XRP['Date']=XRP.index\n",
    "XRP['Date'] = pd.to_datetime(XRP['Date']).dt.date\n",
    "XRP.set_index('Date', inplace=True)\n",
    "XRP['XRP']=XRP['Adj Close'].pct_change()\n",
    "XRP=XRP[['XRP']]"
   ]
  },
  {
   "cell_type": "code",
   "execution_count": 417,
   "id": "cf8fc444",
   "metadata": {},
   "outputs": [
    {
     "name": "stdout",
     "output_type": "stream",
     "text": [
      "[*********************100%***********************]  1 of 1 completed\n"
     ]
    }
   ],
   "source": [
    "Dogcoin= yf.download('DOGE-USD',period='36mo',ignore_tz=True)\n",
    "Dogcoin['Date']=Dogcoin.index\n",
    "Dogcoin['Date']=pd.to_datetime(Dogcoin['Date']).dt.date\n",
    "Dogcoin.set_index('Date', inplace=True)\n",
    "Dogcoin['Dogcoin']=Dogcoin['Adj Close'].pct_change()\n",
    "Dogcoin=Dogcoin[['Dogcoin']]"
   ]
  },
  {
   "cell_type": "code",
   "execution_count": 418,
   "id": "c69b3716",
   "metadata": {},
   "outputs": [
    {
     "name": "stdout",
     "output_type": "stream",
     "text": [
      "[*********************100%***********************]  1 of 1 completed\n"
     ]
    }
   ],
   "source": [
    "Cardano= yf.download('ADA-USD',period='36mo',ignore_tz=True)\n",
    "Cardano['Date']=Cardano.index\n",
    "Cardano['Date'] = pd.to_datetime(Cardano['Date']).dt.date\n",
    "Cardano.set_index('Date', inplace=True)\n",
    "Cardano['Cardano']=Cardano['Adj Close'].pct_change()\n",
    "Cardano=Cardano[['Cardano']]"
   ]
  },
  {
   "cell_type": "code",
   "execution_count": 419,
   "id": "b35863d5",
   "metadata": {},
   "outputs": [
    {
     "name": "stdout",
     "output_type": "stream",
     "text": [
      "[*********************100%***********************]  1 of 1 completed\n"
     ]
    }
   ],
   "source": [
    "TRON= yf.download('TRX-USD',period='36mo',ignore_tz=True)\n",
    "TRON['Date']=TRON.index\n",
    "TRON['Date'] = pd.to_datetime(TRON['Date']).dt.date\n",
    "TRON.set_index('Date', inplace=True)\n",
    "TRON['TRON']=TRON['Adj Close'].pct_change()\n",
    "TRON=TRON[['TRON']]"
   ]
  },
  {
   "cell_type": "code",
   "execution_count": 420,
   "id": "7bf4d23d",
   "metadata": {},
   "outputs": [
    {
     "name": "stdout",
     "output_type": "stream",
     "text": [
      "[*********************100%***********************]  1 of 1 completed\n"
     ]
    }
   ],
   "source": [
    "Litecoin= yf.download('LTC-USD',period='36mo',ignore_tz=True)\n",
    "Litecoin['Date']=Litecoin.index\n",
    "Litecoin['Date'] = pd.to_datetime(Litecoin['Date']).dt.date\n",
    "Litecoin.set_index('Date', inplace=True)\n",
    "Litecoin['Litecoin']=Litecoin['Adj Close'].pct_change()\n",
    "Litecoin=Litecoin[['Litecoin']]"
   ]
  },
  {
   "cell_type": "code",
   "execution_count": 421,
   "id": "9a06b2a3",
   "metadata": {},
   "outputs": [
    {
     "name": "stdout",
     "output_type": "stream",
     "text": [
      "[*********************100%***********************]  1 of 1 completed\n"
     ]
    }
   ],
   "source": [
    "Binance_Coin= yf.download('BNB-USD',period='36mo',ignore_tz=True)\n",
    "Binance_Coin['Date']=Binance_Coin.index\n",
    "Binance_Coin['Date'] = pd.to_datetime(Binance_Coin['Date']).dt.date\n",
    "Binance_Coin.set_index('Date', inplace=True)\n",
    "Binance_Coin['Binance_Coin']=Binance_Coin['Adj Close'].pct_change()\n",
    "Binance_Coin=Binance_Coin[['Binance_Coin']]"
   ]
  },
  {
   "cell_type": "code",
   "execution_count": 422,
   "id": "a3869fd7",
   "metadata": {},
   "outputs": [
    {
     "name": "stdout",
     "output_type": "stream",
     "text": [
      "[*********************100%***********************]  1 of 1 completed\n"
     ]
    }
   ],
   "source": [
    "EOS= yf.download('EOS-USD',period='36mo',ignore_tz=True)\n",
    "EOS['Date']=EOS.index\n",
    "EOS['Date'] = pd.to_datetime(EOS['Date']).dt.date\n",
    "EOS.set_index('Date', inplace=True)\n",
    "EOS['EOS']=EOS['Adj Close'].pct_change()\n",
    "EOS=EOS[['EOS']]"
   ]
  },
  {
   "cell_type": "code",
   "execution_count": 423,
   "id": "92397ae8",
   "metadata": {},
   "outputs": [
    {
     "data": {
      "text/html": [
       "<div>\n",
       "<style scoped>\n",
       "    .dataframe tbody tr th:only-of-type {\n",
       "        vertical-align: middle;\n",
       "    }\n",
       "\n",
       "    .dataframe tbody tr th {\n",
       "        vertical-align: top;\n",
       "    }\n",
       "\n",
       "    .dataframe thead th {\n",
       "        text-align: right;\n",
       "    }\n",
       "</style>\n",
       "<table border=\"1\" class=\"dataframe\">\n",
       "  <thead>\n",
       "    <tr style=\"text-align: right;\">\n",
       "      <th></th>\n",
       "      <th>Solana</th>\n",
       "      <th>Polygon</th>\n",
       "      <th>Ethereum</th>\n",
       "      <th>Gold</th>\n",
       "      <th>USD</th>\n",
       "      <th>XRP</th>\n",
       "      <th>Dogcoin</th>\n",
       "      <th>Cardano</th>\n",
       "      <th>TRON</th>\n",
       "      <th>Litecoin</th>\n",
       "      <th>Binance_Coin</th>\n",
       "      <th>EOS</th>\n",
       "    </tr>\n",
       "    <tr>\n",
       "      <th>Date</th>\n",
       "      <th></th>\n",
       "      <th></th>\n",
       "      <th></th>\n",
       "      <th></th>\n",
       "      <th></th>\n",
       "      <th></th>\n",
       "      <th></th>\n",
       "      <th></th>\n",
       "      <th></th>\n",
       "      <th></th>\n",
       "      <th></th>\n",
       "      <th></th>\n",
       "    </tr>\n",
       "  </thead>\n",
       "  <tbody>\n",
       "    <tr>\n",
       "      <th>2020-04-13</th>\n",
       "      <td>-0.118611</td>\n",
       "      <td>-0.027776</td>\n",
       "      <td>-0.030177</td>\n",
       "      <td>0.017140</td>\n",
       "      <td>-0.001708</td>\n",
       "      <td>-0.012638</td>\n",
       "      <td>-0.015578</td>\n",
       "      <td>-0.020677</td>\n",
       "      <td>-0.024570</td>\n",
       "      <td>-0.029351</td>\n",
       "      <td>0.045865</td>\n",
       "      <td>-0.035048</td>\n",
       "    </tr>\n",
       "    <tr>\n",
       "      <th>2020-04-14</th>\n",
       "      <td>-0.149013</td>\n",
       "      <td>0.012910</td>\n",
       "      <td>0.008426</td>\n",
       "      <td>0.007868</td>\n",
       "      <td>-0.004630</td>\n",
       "      <td>-0.012768</td>\n",
       "      <td>0.002552</td>\n",
       "      <td>-0.004017</td>\n",
       "      <td>-0.013667</td>\n",
       "      <td>-0.003653</td>\n",
       "      <td>0.032635</td>\n",
       "      <td>0.004595</td>\n",
       "    </tr>\n",
       "    <tr>\n",
       "      <th>2020-04-15</th>\n",
       "      <td>-0.023075</td>\n",
       "      <td>-0.043664</td>\n",
       "      <td>-0.027345</td>\n",
       "      <td>-0.005102</td>\n",
       "      <td>0.005764</td>\n",
       "      <td>-0.021933</td>\n",
       "      <td>-0.012220</td>\n",
       "      <td>-0.033693</td>\n",
       "      <td>-0.015145</td>\n",
       "      <td>-0.035679</td>\n",
       "      <td>-0.059977</td>\n",
       "      <td>-0.022096</td>\n",
       "    </tr>\n",
       "    <tr>\n",
       "      <th>2020-04-16</th>\n",
       "      <td>0.068298</td>\n",
       "      <td>0.086930</td>\n",
       "      <td>0.123106</td>\n",
       "      <td>-0.000865</td>\n",
       "      <td>0.005731</td>\n",
       "      <td>0.048734</td>\n",
       "      <td>0.045361</td>\n",
       "      <td>0.079873</td>\n",
       "      <td>0.066830</td>\n",
       "      <td>0.078303</td>\n",
       "      <td>0.075977</td>\n",
       "      <td>0.105601</td>\n",
       "    </tr>\n",
       "    <tr>\n",
       "      <th>2020-04-17</th>\n",
       "      <td>-0.043554</td>\n",
       "      <td>0.014714</td>\n",
       "      <td>-0.003014</td>\n",
       "      <td>-0.019417</td>\n",
       "      <td>-0.002499</td>\n",
       "      <td>0.000516</td>\n",
       "      <td>-0.007397</td>\n",
       "      <td>0.004795</td>\n",
       "      <td>-0.002914</td>\n",
       "      <td>0.001312</td>\n",
       "      <td>0.002060</td>\n",
       "      <td>-0.006401</td>\n",
       "    </tr>\n",
       "    <tr>\n",
       "      <th>...</th>\n",
       "      <td>...</td>\n",
       "      <td>...</td>\n",
       "      <td>...</td>\n",
       "      <td>...</td>\n",
       "      <td>...</td>\n",
       "      <td>...</td>\n",
       "      <td>...</td>\n",
       "      <td>...</td>\n",
       "      <td>...</td>\n",
       "      <td>...</td>\n",
       "      <td>...</td>\n",
       "      <td>...</td>\n",
       "    </tr>\n",
       "    <tr>\n",
       "      <th>2023-03-16</th>\n",
       "      <td>0.022786</td>\n",
       "      <td>0.032760</td>\n",
       "      <td>0.012701</td>\n",
       "      <td>0.002020</td>\n",
       "      <td>-0.002198</td>\n",
       "      <td>0.015163</td>\n",
       "      <td>0.040821</td>\n",
       "      <td>0.002298</td>\n",
       "      <td>0.000827</td>\n",
       "      <td>0.034351</td>\n",
       "      <td>0.074028</td>\n",
       "      <td>0.039090</td>\n",
       "    </tr>\n",
       "    <tr>\n",
       "      <th>2023-03-17</th>\n",
       "      <td>0.096224</td>\n",
       "      <td>0.064091</td>\n",
       "      <td>0.068727</td>\n",
       "      <td>0.029120</td>\n",
       "      <td>-0.006799</td>\n",
       "      <td>0.039224</td>\n",
       "      <td>0.052133</td>\n",
       "      <td>0.077266</td>\n",
       "      <td>0.037144</td>\n",
       "      <td>0.081575</td>\n",
       "      <td>0.027952</td>\n",
       "      <td>0.061322</td>\n",
       "    </tr>\n",
       "    <tr>\n",
       "      <th>2023-03-20</th>\n",
       "      <td>0.012467</td>\n",
       "      <td>-0.055485</td>\n",
       "      <td>-0.028145</td>\n",
       "      <td>0.000381</td>\n",
       "      <td>-0.004146</td>\n",
       "      <td>-0.035620</td>\n",
       "      <td>-0.044457</td>\n",
       "      <td>-0.038771</td>\n",
       "      <td>-0.024832</td>\n",
       "      <td>-0.071196</td>\n",
       "      <td>-0.012034</td>\n",
       "      <td>-0.005142</td>\n",
       "    </tr>\n",
       "    <tr>\n",
       "      <th>2023-03-21</th>\n",
       "      <td>0.019922</td>\n",
       "      <td>0.047469</td>\n",
       "      <td>0.041168</td>\n",
       "      <td>-0.018875</td>\n",
       "      <td>-0.000194</td>\n",
       "      <td>0.253804</td>\n",
       "      <td>0.075636</td>\n",
       "      <td>0.116180</td>\n",
       "      <td>0.031823</td>\n",
       "      <td>0.054967</td>\n",
       "      <td>0.007168</td>\n",
       "      <td>0.031183</td>\n",
       "    </tr>\n",
       "    <tr>\n",
       "      <th>2023-03-22</th>\n",
       "      <td>-0.050304</td>\n",
       "      <td>-0.040255</td>\n",
       "      <td>-0.038214</td>\n",
       "      <td>0.017021</td>\n",
       "      <td>-0.008813</td>\n",
       "      <td>-0.100551</td>\n",
       "      <td>-0.037649</td>\n",
       "      <td>-0.028615</td>\n",
       "      <td>-0.108778</td>\n",
       "      <td>0.055859</td>\n",
       "      <td>-0.040027</td>\n",
       "      <td>-0.078363</td>\n",
       "    </tr>\n",
       "  </tbody>\n",
       "</table>\n",
       "<p>742 rows × 12 columns</p>\n",
       "</div>"
      ],
      "text/plain": [
       "              Solana   Polygon  Ethereum      Gold       USD       XRP  \\\n",
       "Date                                                                     \n",
       "2020-04-13 -0.118611 -0.027776 -0.030177  0.017140 -0.001708 -0.012638   \n",
       "2020-04-14 -0.149013  0.012910  0.008426  0.007868 -0.004630 -0.012768   \n",
       "2020-04-15 -0.023075 -0.043664 -0.027345 -0.005102  0.005764 -0.021933   \n",
       "2020-04-16  0.068298  0.086930  0.123106 -0.000865  0.005731  0.048734   \n",
       "2020-04-17 -0.043554  0.014714 -0.003014 -0.019417 -0.002499  0.000516   \n",
       "...              ...       ...       ...       ...       ...       ...   \n",
       "2023-03-16  0.022786  0.032760  0.012701  0.002020 -0.002198  0.015163   \n",
       "2023-03-17  0.096224  0.064091  0.068727  0.029120 -0.006799  0.039224   \n",
       "2023-03-20  0.012467 -0.055485 -0.028145  0.000381 -0.004146 -0.035620   \n",
       "2023-03-21  0.019922  0.047469  0.041168 -0.018875 -0.000194  0.253804   \n",
       "2023-03-22 -0.050304 -0.040255 -0.038214  0.017021 -0.008813 -0.100551   \n",
       "\n",
       "             Dogcoin   Cardano      TRON  Litecoin  Binance_Coin       EOS  \n",
       "Date                                                                        \n",
       "2020-04-13 -0.015578 -0.020677 -0.024570 -0.029351      0.045865 -0.035048  \n",
       "2020-04-14  0.002552 -0.004017 -0.013667 -0.003653      0.032635  0.004595  \n",
       "2020-04-15 -0.012220 -0.033693 -0.015145 -0.035679     -0.059977 -0.022096  \n",
       "2020-04-16  0.045361  0.079873  0.066830  0.078303      0.075977  0.105601  \n",
       "2020-04-17 -0.007397  0.004795 -0.002914  0.001312      0.002060 -0.006401  \n",
       "...              ...       ...       ...       ...           ...       ...  \n",
       "2023-03-16  0.040821  0.002298  0.000827  0.034351      0.074028  0.039090  \n",
       "2023-03-17  0.052133  0.077266  0.037144  0.081575      0.027952  0.061322  \n",
       "2023-03-20 -0.044457 -0.038771 -0.024832 -0.071196     -0.012034 -0.005142  \n",
       "2023-03-21  0.075636  0.116180  0.031823  0.054967      0.007168  0.031183  \n",
       "2023-03-22 -0.037649 -0.028615 -0.108778  0.055859     -0.040027 -0.078363  \n",
       "\n",
       "[742 rows x 12 columns]"
      ]
     },
     "execution_count": 423,
     "metadata": {},
     "output_type": "execute_result"
    }
   ],
   "source": [
    "data2=pd.concat([Solana,Polygon,Ethereum,Gold,USD,XRP,Dogcoin,Cardano,TRON,Litecoin,Binance_Coin,EOS],axis=1,join = 'inner')\n",
    "data2"
   ]
  },
  {
   "cell_type": "code",
   "execution_count": 424,
   "id": "ecb1d7d5",
   "metadata": {},
   "outputs": [
    {
     "name": "stdout",
     "output_type": "stream",
     "text": [
      "<class 'pandas.core.frame.DataFrame'>\n",
      "Index: 742 entries, 2020-04-13 to 2023-03-22\n",
      "Data columns (total 12 columns):\n",
      " #   Column        Non-Null Count  Dtype  \n",
      "---  ------        --------------  -----  \n",
      " 0   Solana        742 non-null    float64\n",
      " 1   Polygon       742 non-null    float64\n",
      " 2   Ethereum      742 non-null    float64\n",
      " 3   Gold          742 non-null    float64\n",
      " 4   USD           742 non-null    float64\n",
      " 5   XRP           742 non-null    float64\n",
      " 6   Dogcoin       742 non-null    float64\n",
      " 7   Cardano       742 non-null    float64\n",
      " 8   TRON          742 non-null    float64\n",
      " 9   Litecoin      742 non-null    float64\n",
      " 10  Binance_Coin  742 non-null    float64\n",
      " 11  EOS           742 non-null    float64\n",
      "dtypes: float64(12)\n",
      "memory usage: 75.4+ KB\n"
     ]
    }
   ],
   "source": [
    "data2.info()"
   ]
  },
  {
   "cell_type": "code",
   "execution_count": 425,
   "id": "a60ebb5e",
   "metadata": {},
   "outputs": [
    {
     "data": {
      "text/plain": [
       "Solana          0\n",
       "Polygon         0\n",
       "Ethereum        0\n",
       "Gold            0\n",
       "USD             0\n",
       "XRP             0\n",
       "Dogcoin         0\n",
       "Cardano         0\n",
       "TRON            0\n",
       "Litecoin        0\n",
       "Binance_Coin    0\n",
       "EOS             0\n",
       "dtype: int64"
      ]
     },
     "execution_count": 425,
     "metadata": {},
     "output_type": "execute_result"
    }
   ],
   "source": [
    "data2.isnull().sum()"
   ]
  },
  {
   "cell_type": "code",
   "execution_count": 426,
   "id": "a12be263",
   "metadata": {},
   "outputs": [
    {
     "data": {
      "text/plain": [
       "(742, 12)"
      ]
     },
     "execution_count": 426,
     "metadata": {},
     "output_type": "execute_result"
    }
   ],
   "source": [
    "data2.shape"
   ]
  },
  {
   "cell_type": "code",
   "execution_count": 427,
   "id": "d872e578",
   "metadata": {},
   "outputs": [],
   "source": [
    "data2_pca= factor_analyzer.FactorAnalyzer(n_factors=data2.shape[1],\n",
    "                                          rotation=None,\n",
    "                                          method='principal').fit(data2)"
   ]
  },
  {
   "cell_type": "code",
   "execution_count": 428,
   "id": "3ea6cdd8",
   "metadata": {},
   "outputs": [
    {
     "data": {
      "text/html": [
       "<div>\n",
       "<style scoped>\n",
       "    .dataframe tbody tr th:only-of-type {\n",
       "        vertical-align: middle;\n",
       "    }\n",
       "\n",
       "    .dataframe tbody tr th {\n",
       "        vertical-align: top;\n",
       "    }\n",
       "\n",
       "    .dataframe thead th {\n",
       "        text-align: right;\n",
       "    }\n",
       "</style>\n",
       "<table border=\"1\" class=\"dataframe\">\n",
       "  <thead>\n",
       "    <tr style=\"text-align: right;\">\n",
       "      <th></th>\n",
       "      <th>PC1</th>\n",
       "      <th>PC2</th>\n",
       "      <th>PC3</th>\n",
       "      <th>PC4</th>\n",
       "      <th>PC5</th>\n",
       "      <th>PC6</th>\n",
       "      <th>PC7</th>\n",
       "      <th>PC8</th>\n",
       "      <th>PC9</th>\n",
       "      <th>PC10</th>\n",
       "      <th>PC11</th>\n",
       "      <th>PC12</th>\n",
       "    </tr>\n",
       "  </thead>\n",
       "  <tbody>\n",
       "    <tr>\n",
       "      <th>Sum of Squared Loadings</th>\n",
       "      <td>6.14</td>\n",
       "      <td>1.40</td>\n",
       "      <td>0.93</td>\n",
       "      <td>0.67</td>\n",
       "      <td>0.52</td>\n",
       "      <td>0.48</td>\n",
       "      <td>0.39</td>\n",
       "      <td>0.37</td>\n",
       "      <td>0.37</td>\n",
       "      <td>0.32</td>\n",
       "      <td>0.25</td>\n",
       "      <td>0.16</td>\n",
       "    </tr>\n",
       "    <tr>\n",
       "      <th>Proportion of Variance Explained</th>\n",
       "      <td>0.51</td>\n",
       "      <td>0.12</td>\n",
       "      <td>0.08</td>\n",
       "      <td>0.06</td>\n",
       "      <td>0.04</td>\n",
       "      <td>0.04</td>\n",
       "      <td>0.03</td>\n",
       "      <td>0.03</td>\n",
       "      <td>0.03</td>\n",
       "      <td>0.03</td>\n",
       "      <td>0.02</td>\n",
       "      <td>0.01</td>\n",
       "    </tr>\n",
       "    <tr>\n",
       "      <th>Cumulative Proportion</th>\n",
       "      <td>0.51</td>\n",
       "      <td>0.63</td>\n",
       "      <td>0.71</td>\n",
       "      <td>0.76</td>\n",
       "      <td>0.81</td>\n",
       "      <td>0.84</td>\n",
       "      <td>0.88</td>\n",
       "      <td>0.91</td>\n",
       "      <td>0.94</td>\n",
       "      <td>0.97</td>\n",
       "      <td>0.99</td>\n",
       "      <td>1.00</td>\n",
       "    </tr>\n",
       "  </tbody>\n",
       "</table>\n",
       "</div>"
      ],
      "text/plain": [
       "                                   PC1   PC2   PC3   PC4   PC5   PC6   PC7  \\\n",
       "Sum of Squared Loadings           6.14  1.40  0.93  0.67  0.52  0.48  0.39   \n",
       "Proportion of Variance Explained  0.51  0.12  0.08  0.06  0.04  0.04  0.03   \n",
       "Cumulative Proportion             0.51  0.63  0.71  0.76  0.81  0.84  0.88   \n",
       "\n",
       "                                   PC8   PC9  PC10  PC11  PC12  \n",
       "Sum of Squared Loadings           0.37  0.37  0.32  0.25  0.16  \n",
       "Proportion of Variance Explained  0.03  0.03  0.03  0.02  0.01  \n",
       "Cumulative Proportion             0.91  0.94  0.97  0.99  1.00  "
      ]
     },
     "execution_count": 428,
     "metadata": {},
     "output_type": "execute_result"
    }
   ],
   "source": [
    "get_summary(data2_pca)"
   ]
  },
  {
   "cell_type": "code",
   "execution_count": 434,
   "id": "b5cb086d",
   "metadata": {},
   "outputs": [
    {
     "data": {
      "text/plain": [
       "Text(0, 0.5, 'Variance')"
      ]
     },
     "execution_count": 434,
     "metadata": {},
     "output_type": "execute_result"
    },
    {
     "data": {
      "image/png": "[encoded data removed]",
      "text/plain": [
       "<Figure size 432x288 with 1 Axes>"
      ]
     },
     "metadata": {
      "needs_background": "light"
     },
     "output_type": "display_data"
    }
   ],
   "source": [
    "# scree plot - shows successive proportion of additional variance that each component adds\n",
    "plt.plot(1+np.arange(len(data2_pca.get_factor_variance()[0])),\n",
    "         data2_pca.get_factor_variance()[0],'o-')\n",
    "plt.xlabel('Component')\n",
    "plt.ylabel('Variance')"
   ]
  },
  {
   "cell_type": "markdown",
   "id": "c58930aa",
   "metadata": {},
   "source": [
    "# if we choose 2 factors"
   ]
  },
  {
   "cell_type": "code",
   "execution_count": 430,
   "id": "0291d335",
   "metadata": {},
   "outputs": [],
   "source": [
    "data2_pca_rotated_2factors=factor_analyzer.FactorAnalyzer(n_factors=2,\n",
    "                                          rotation='varimax',\n",
    "                                          method='principal').fit(data2)"
   ]
  },
  {
   "cell_type": "code",
   "execution_count": 431,
   "id": "032e7baf",
   "metadata": {},
   "outputs": [
    {
     "data": {
      "text/html": [
       "<div>\n",
       "<style scoped>\n",
       "    .dataframe tbody tr th:only-of-type {\n",
       "        vertical-align: middle;\n",
       "    }\n",
       "\n",
       "    .dataframe tbody tr th {\n",
       "        vertical-align: top;\n",
       "    }\n",
       "\n",
       "    .dataframe thead th {\n",
       "        text-align: right;\n",
       "    }\n",
       "</style>\n",
       "<table border=\"1\" class=\"dataframe\">\n",
       "  <thead>\n",
       "    <tr style=\"text-align: right;\">\n",
       "      <th></th>\n",
       "      <th>RC1</th>\n",
       "      <th>RC2</th>\n",
       "      <th>communalities</th>\n",
       "    </tr>\n",
       "  </thead>\n",
       "  <tbody>\n",
       "    <tr>\n",
       "      <th>Solana</th>\n",
       "      <td>0.661</td>\n",
       "      <td>0.126</td>\n",
       "      <td>0.453</td>\n",
       "    </tr>\n",
       "    <tr>\n",
       "      <th>Polygon</th>\n",
       "      <td>0.776</td>\n",
       "      <td>0.108</td>\n",
       "      <td>0.613</td>\n",
       "    </tr>\n",
       "    <tr>\n",
       "      <th>Ethereum</th>\n",
       "      <td>0.888</td>\n",
       "      <td>0.131</td>\n",
       "      <td>0.805</td>\n",
       "    </tr>\n",
       "    <tr>\n",
       "      <th>Gold</th>\n",
       "      <td>0.042</td>\n",
       "      <td>0.866</td>\n",
       "      <td>0.752</td>\n",
       "    </tr>\n",
       "    <tr>\n",
       "      <th>USD</th>\n",
       "      <td>-0.156</td>\n",
       "      <td>-0.842</td>\n",
       "      <td>0.734</td>\n",
       "    </tr>\n",
       "    <tr>\n",
       "      <th>XRP</th>\n",
       "      <td>0.792</td>\n",
       "      <td>-0.006</td>\n",
       "      <td>0.628</td>\n",
       "    </tr>\n",
       "    <tr>\n",
       "      <th>Dogcoin</th>\n",
       "      <td>0.369</td>\n",
       "      <td>0.020</td>\n",
       "      <td>0.137</td>\n",
       "    </tr>\n",
       "    <tr>\n",
       "      <th>Cardano</th>\n",
       "      <td>0.828</td>\n",
       "      <td>0.108</td>\n",
       "      <td>0.698</td>\n",
       "    </tr>\n",
       "    <tr>\n",
       "      <th>TRON</th>\n",
       "      <td>0.775</td>\n",
       "      <td>0.048</td>\n",
       "      <td>0.603</td>\n",
       "    </tr>\n",
       "    <tr>\n",
       "      <th>Litecoin</th>\n",
       "      <td>0.876</td>\n",
       "      <td>0.118</td>\n",
       "      <td>0.782</td>\n",
       "    </tr>\n",
       "    <tr>\n",
       "      <th>Binance_Coin</th>\n",
       "      <td>0.775</td>\n",
       "      <td>0.085</td>\n",
       "      <td>0.608</td>\n",
       "    </tr>\n",
       "    <tr>\n",
       "      <th>EOS</th>\n",
       "      <td>0.848</td>\n",
       "      <td>0.075</td>\n",
       "      <td>0.724</td>\n",
       "    </tr>\n",
       "  </tbody>\n",
       "</table>\n",
       "</div>"
      ],
      "text/plain": [
       "                RC1    RC2  communalities\n",
       "Solana        0.661  0.126          0.453\n",
       "Polygon       0.776  0.108          0.613\n",
       "Ethereum      0.888  0.131          0.805\n",
       "Gold          0.042  0.866          0.752\n",
       "USD          -0.156 -0.842          0.734\n",
       "XRP           0.792 -0.006          0.628\n",
       "Dogcoin       0.369  0.020          0.137\n",
       "Cardano       0.828  0.108          0.698\n",
       "TRON          0.775  0.048          0.603\n",
       "Litecoin      0.876  0.118          0.782\n",
       "Binance_Coin  0.775  0.085          0.608\n",
       "EOS           0.848  0.075          0.724"
      ]
     },
     "execution_count": 431,
     "metadata": {},
     "output_type": "execute_result"
    }
   ],
   "source": [
    "#get loadings\n",
    "get_loadings_communalities(data2_pca_rotated_2factors,index_names=list(data2.columns))"
   ]
  },
  {
   "cell_type": "markdown",
   "id": "f5bbf8ca",
   "metadata": {},
   "source": [
    "# if we choose 10 factors"
   ]
  },
  {
   "cell_type": "code",
   "execution_count": 432,
   "id": "6a855347",
   "metadata": {},
   "outputs": [
    {
     "data": {
      "text/html": [
       "<div>\n",
       "<style scoped>\n",
       "    .dataframe tbody tr th:only-of-type {\n",
       "        vertical-align: middle;\n",
       "    }\n",
       "\n",
       "    .dataframe tbody tr th {\n",
       "        vertical-align: top;\n",
       "    }\n",
       "\n",
       "    .dataframe thead th {\n",
       "        text-align: right;\n",
       "    }\n",
       "</style>\n",
       "<table border=\"1\" class=\"dataframe\">\n",
       "  <thead>\n",
       "    <tr style=\"text-align: right;\">\n",
       "      <th></th>\n",
       "      <th>RC1</th>\n",
       "      <th>RC2</th>\n",
       "      <th>RC3</th>\n",
       "      <th>RC4</th>\n",
       "      <th>RC5</th>\n",
       "      <th>RC6</th>\n",
       "      <th>RC7</th>\n",
       "      <th>RC8</th>\n",
       "      <th>RC9</th>\n",
       "      <th>RC10</th>\n",
       "      <th>communalities</th>\n",
       "    </tr>\n",
       "  </thead>\n",
       "  <tbody>\n",
       "    <tr>\n",
       "      <th>Solana</th>\n",
       "      <td>0.267</td>\n",
       "      <td>0.037</td>\n",
       "      <td>0.054</td>\n",
       "      <td>0.903</td>\n",
       "      <td>-0.068</td>\n",
       "      <td>0.123</td>\n",
       "      <td>0.103</td>\n",
       "      <td>0.153</td>\n",
       "      <td>0.161</td>\n",
       "      <td>0.129</td>\n",
       "      <td>0.987</td>\n",
       "    </tr>\n",
       "    <tr>\n",
       "      <th>Polygon</th>\n",
       "      <td>0.378</td>\n",
       "      <td>0.027</td>\n",
       "      <td>0.033</td>\n",
       "      <td>0.203</td>\n",
       "      <td>-0.084</td>\n",
       "      <td>0.157</td>\n",
       "      <td>0.157</td>\n",
       "      <td>0.825</td>\n",
       "      <td>0.217</td>\n",
       "      <td>0.167</td>\n",
       "      <td>0.997</td>\n",
       "    </tr>\n",
       "    <tr>\n",
       "      <th>Ethereum</th>\n",
       "      <td>0.733</td>\n",
       "      <td>0.052</td>\n",
       "      <td>0.115</td>\n",
       "      <td>0.329</td>\n",
       "      <td>-0.089</td>\n",
       "      <td>0.117</td>\n",
       "      <td>0.203</td>\n",
       "      <td>0.265</td>\n",
       "      <td>0.193</td>\n",
       "      <td>0.188</td>\n",
       "      <td>0.867</td>\n",
       "    </tr>\n",
       "    <tr>\n",
       "      <th>Gold</th>\n",
       "      <td>0.055</td>\n",
       "      <td>0.967</td>\n",
       "      <td>0.008</td>\n",
       "      <td>0.032</td>\n",
       "      <td>-0.241</td>\n",
       "      <td>-0.000</td>\n",
       "      <td>0.032</td>\n",
       "      <td>0.019</td>\n",
       "      <td>0.030</td>\n",
       "      <td>0.018</td>\n",
       "      <td>1.000</td>\n",
       "    </tr>\n",
       "    <tr>\n",
       "      <th>USD</th>\n",
       "      <td>-0.103</td>\n",
       "      <td>-0.252</td>\n",
       "      <td>-0.033</td>\n",
       "      <td>-0.062</td>\n",
       "      <td>0.955</td>\n",
       "      <td>-0.029</td>\n",
       "      <td>-0.027</td>\n",
       "      <td>-0.059</td>\n",
       "      <td>-0.033</td>\n",
       "      <td>-0.049</td>\n",
       "      <td>1.000</td>\n",
       "    </tr>\n",
       "    <tr>\n",
       "      <th>XRP</th>\n",
       "      <td>0.434</td>\n",
       "      <td>-0.004</td>\n",
       "      <td>0.101</td>\n",
       "      <td>0.166</td>\n",
       "      <td>-0.040</td>\n",
       "      <td>0.812</td>\n",
       "      <td>0.211</td>\n",
       "      <td>0.161</td>\n",
       "      <td>0.138</td>\n",
       "      <td>0.138</td>\n",
       "      <td>0.996</td>\n",
       "    </tr>\n",
       "    <tr>\n",
       "      <th>Dogcoin</th>\n",
       "      <td>0.160</td>\n",
       "      <td>0.008</td>\n",
       "      <td>0.978</td>\n",
       "      <td>0.049</td>\n",
       "      <td>-0.031</td>\n",
       "      <td>0.065</td>\n",
       "      <td>0.064</td>\n",
       "      <td>0.026</td>\n",
       "      <td>0.038</td>\n",
       "      <td>0.066</td>\n",
       "      <td>1.000</td>\n",
       "    </tr>\n",
       "    <tr>\n",
       "      <th>Cardano</th>\n",
       "      <td>0.463</td>\n",
       "      <td>0.032</td>\n",
       "      <td>0.127</td>\n",
       "      <td>0.219</td>\n",
       "      <td>-0.088</td>\n",
       "      <td>0.171</td>\n",
       "      <td>0.185</td>\n",
       "      <td>0.215</td>\n",
       "      <td>0.191</td>\n",
       "      <td>0.753</td>\n",
       "      <td>0.999</td>\n",
       "    </tr>\n",
       "    <tr>\n",
       "      <th>TRON</th>\n",
       "      <td>0.407</td>\n",
       "      <td>0.046</td>\n",
       "      <td>0.093</td>\n",
       "      <td>0.134</td>\n",
       "      <td>-0.034</td>\n",
       "      <td>0.197</td>\n",
       "      <td>0.830</td>\n",
       "      <td>0.153</td>\n",
       "      <td>0.167</td>\n",
       "      <td>0.140</td>\n",
       "      <td>0.995</td>\n",
       "    </tr>\n",
       "    <tr>\n",
       "      <th>Litecoin</th>\n",
       "      <td>0.828</td>\n",
       "      <td>0.040</td>\n",
       "      <td>0.141</td>\n",
       "      <td>0.215</td>\n",
       "      <td>-0.100</td>\n",
       "      <td>0.208</td>\n",
       "      <td>0.128</td>\n",
       "      <td>0.155</td>\n",
       "      <td>0.196</td>\n",
       "      <td>0.134</td>\n",
       "      <td>0.904</td>\n",
       "    </tr>\n",
       "    <tr>\n",
       "      <th>Binance_Coin</th>\n",
       "      <td>0.382</td>\n",
       "      <td>0.045</td>\n",
       "      <td>0.055</td>\n",
       "      <td>0.213</td>\n",
       "      <td>-0.044</td>\n",
       "      <td>0.135</td>\n",
       "      <td>0.173</td>\n",
       "      <td>0.218</td>\n",
       "      <td>0.827</td>\n",
       "      <td>0.150</td>\n",
       "      <td>1.000</td>\n",
       "    </tr>\n",
       "    <tr>\n",
       "      <th>EOS</th>\n",
       "      <td>0.777</td>\n",
       "      <td>0.048</td>\n",
       "      <td>0.116</td>\n",
       "      <td>0.056</td>\n",
       "      <td>-0.049</td>\n",
       "      <td>0.235</td>\n",
       "      <td>0.275</td>\n",
       "      <td>0.162</td>\n",
       "      <td>0.168</td>\n",
       "      <td>0.177</td>\n",
       "      <td>0.841</td>\n",
       "    </tr>\n",
       "  </tbody>\n",
       "</table>\n",
       "</div>"
      ],
      "text/plain": [
       "                RC1    RC2    RC3    RC4    RC5    RC6    RC7    RC8    RC9  \\\n",
       "Solana        0.267  0.037  0.054  0.903 -0.068  0.123  0.103  0.153  0.161   \n",
       "Polygon       0.378  0.027  0.033  0.203 -0.084  0.157  0.157  0.825  0.217   \n",
       "Ethereum      0.733  0.052  0.115  0.329 -0.089  0.117  0.203  0.265  0.193   \n",
       "Gold          0.055  0.967  0.008  0.032 -0.241 -0.000  0.032  0.019  0.030   \n",
       "USD          -0.103 -0.252 -0.033 -0.062  0.955 -0.029 -0.027 -0.059 -0.033   \n",
       "XRP           0.434 -0.004  0.101  0.166 -0.040  0.812  0.211  0.161  0.138   \n",
       "Dogcoin       0.160  0.008  0.978  0.049 -0.031  0.065  0.064  0.026  0.038   \n",
       "Cardano       0.463  0.032  0.127  0.219 -0.088  0.171  0.185  0.215  0.191   \n",
       "TRON          0.407  0.046  0.093  0.134 -0.034  0.197  0.830  0.153  0.167   \n",
       "Litecoin      0.828  0.040  0.141  0.215 -0.100  0.208  0.128  0.155  0.196   \n",
       "Binance_Coin  0.382  0.045  0.055  0.213 -0.044  0.135  0.173  0.218  0.827   \n",
       "EOS           0.777  0.048  0.116  0.056 -0.049  0.235  0.275  0.162  0.168   \n",
       "\n",
       "               RC10  communalities  \n",
       "Solana        0.129          0.987  \n",
       "Polygon       0.167          0.997  \n",
       "Ethereum      0.188          0.867  \n",
       "Gold          0.018          1.000  \n",
       "USD          -0.049          1.000  \n",
       "XRP           0.138          0.996  \n",
       "Dogcoin       0.066          1.000  \n",
       "Cardano       0.753          0.999  \n",
       "TRON          0.140          0.995  \n",
       "Litecoin      0.134          0.904  \n",
       "Binance_Coin  0.150          1.000  \n",
       "EOS           0.177          0.841  "
      ]
     },
     "execution_count": 432,
     "metadata": {},
     "output_type": "execute_result"
    }
   ],
   "source": [
    "data2_pca_rotated_5factors=factor_analyzer.FactorAnalyzer(n_factors=10,\n",
    "                                          rotation='varimax',\n",
    "                                          method='principal').fit(data2)\n",
    "\n",
    "#get loadings\n",
    "get_loadings_communalities(data2_pca_rotated_5factors,index_names=list(data2.columns))"
   ]
  }
 ],
 "metadata": {
  "colab": {
   "provenance": []
  },
  "kernelspec": {
   "display_name": "Python 3 (ipykernel)",
   "language": "python",
   "name": "python3"
  },
  "language_info": {
   "codemirror_mode": {
    "name": "ipython",
    "version": 3
   },
   "file_extension": ".py",
   "mimetype": "text/x-python",
   "name": "python",
   "nbconvert_exporter": "python",
   "pygments_lexer": "ipython3",
   "version": "3.10.0"
  }
 },
 "nbformat": 4,
 "nbformat_minor": 5
}
